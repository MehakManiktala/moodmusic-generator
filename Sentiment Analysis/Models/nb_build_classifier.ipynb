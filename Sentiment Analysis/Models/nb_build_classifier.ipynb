{
 "cells": [
  {
   "cell_type": "code",
   "execution_count": 1,
   "metadata": {},
   "outputs": [],
   "source": [
    "from sklearn.naive_bayes import GaussianNB\n",
    "from sklearn import datasets\n",
    "import nltk\n",
    "from nltk.tokenize import sent_tokenize, word_tokenize\n",
    "import pandas as pd\n",
    "from nltk.metrics import ConfusionMatrix\n",
    "import numpy as np\n",
    "from sklearn.externals import joblib"
   ]
  },
  {
   "cell_type": "code",
   "execution_count": 2,
   "metadata": {},
   "outputs": [],
   "source": [
    "emo = 5\n",
    "\n",
    "if emo == 2: \n",
    "    dataset_path = '../Data/Datasets/Binary Classification/'\n",
    "else:\n",
    "    dataset_path = '../Data/Datasets/Multiclass Classification/'"
   ]
  },
  {
   "cell_type": "code",
   "execution_count": 3,
   "metadata": {},
   "outputs": [],
   "source": [
    "def convert_features(sentence):\n",
    "    return {i:(i in sentence) for i in word_features}"
   ]
  },
  {
   "cell_type": "code",
   "execution_count": 4,
   "metadata": {},
   "outputs": [
    {
     "data": {
      "text/plain": [
       "['../Data/Datasets/Multiclass Classification/nb_classifier.pkl']"
      ]
     },
     "execution_count": 4,
     "metadata": {},
     "output_type": "execute_result"
    }
   ],
   "source": [
    "#build the classifier\n",
    "train = pd.read_csv(dataset_path+'train.csv', sep=\",\", header=None,index_col = False)\n",
    "test = pd.read_csv(dataset_path+'test.csv', sep=\",\", header=None,index_col = False)\n",
    "\n",
    "whole_ds = train.append(test,ignore_index=True )\n",
    "whole_ds['tokenized_sents'] = whole_ds.apply(lambda row: nltk.word_tokenize(row[0]), axis=1)\n",
    "\n",
    "all_words = []\n",
    "for line in whole_ds['tokenized_sents']:\n",
    "    for w in line:\n",
    "        all_words.append(w.lower())\n",
    "all_words = nltk.FreqDist(all_words)\n",
    "word_features = list(all_words.keys())\n",
    "joblib.dump(word_features, '../Data/nb_word_features.pkl') \n",
    "\n",
    "\n",
    "featured_whole_ds = [(convert_features(row['tokenized_sents']), row[1]) for index, row in whole_ds.iterrows()]\n",
    "classifier = nltk.NaiveBayesClassifier.train(featured_whole_ds)\n",
    "joblib.dump(classifier, dataset_path+'nb_classifier.pkl') "
   ]
  },
  {
   "cell_type": "code",
   "execution_count": null,
   "metadata": {},
   "outputs": [
    {
     "name": "stdout",
     "output_type": "stream",
     "text": [
      "Holdout testing accuracy: 0.7812166488794023\n"
     ]
    }
   ],
   "source": [
    "#hold out testing\n",
    "train = pd.read_csv(dataset_path+'train.csv', sep=\",\", header=None,index_col = False)\n",
    "test = pd.read_csv(dataset_path+'test.csv', sep=\",\", header=None,index_col = False)\n",
    "    \n",
    "\n",
    "train['tokenized_sents'] = [nltk.word_tokenize(row[0]) for index, row in train.iterrows()]\n",
    "featured_train = [(convert_features(row['tokenized_sents']), row[1]) for index, row in train.iterrows()]\n",
    "test['tokenized_sents'] = [nltk.word_tokenize(row[0]) for index, row in test.iterrows()]\n",
    "#test.apply(lambda row: nltk.word_tokenize(row[0]), axis=1)\n",
    "featured_test = [(convert_features(row['tokenized_sents']), row[1]) for index, row in test.iterrows()]\n",
    "\n",
    "classifier = nltk.NaiveBayesClassifier.train(featured_train)\n",
    "score = nltk.classify.accuracy(classifier, featured_test)\n",
    "print(\"Holdout testing accuracy: {}\".format(score))"
   ]
  },
  {
   "cell_type": "code",
   "execution_count": null,
   "metadata": {},
   "outputs": [
    {
     "name": "stdout",
     "output_type": "stream",
     "text": [
      "Fold: 1: accuracy = 0.8333333333333334\n",
      "Fold: 2: accuracy = 0.7931034482758621\n",
      "Fold: 3: accuracy = 0.7792553191489362\n",
      "Fold: 4: accuracy = 0.7845744680851063\n",
      "Fold: 5: accuracy = 0.7620320855614974\n",
      "Fold: 6: accuracy = 0.7506702412868632\n",
      "Fold: 7: accuracy = 0.7613941018766756\n"
     ]
    }
   ],
   "source": [
    "#Cross validation testing\n",
    "accuracy_nb = []\n",
    "folds = 10\n",
    "\n",
    "for idx in range(1,folds+1):\n",
    "    \n",
    "    train = pd.read_csv(dataset_path+'cv'+str(idx)+'_train.csv', sep=\",\", header=None,index_col = False)\n",
    "    test = pd.read_csv(dataset_path+'cv'+str(idx)+'_test.csv', sep=\",\", header=None,index_col = False)\n",
    "    \n",
    "    train['tokenized_sents'] = [nltk.word_tokenize(row[0]) for index, row in train.iterrows()]\n",
    "    featured_train = [(convert_features(row['tokenized_sents']), row[1]) for index, row in train.iterrows()]\n",
    "    test['tokenized_sents'] = [nltk.word_tokenize(row[0]) for index, row in test.iterrows()]\n",
    "    featured_test = [(convert_features(row['tokenized_sents']), row[1]) for index, row in test.iterrows()]\n",
    "\n",
    "    classifier = nltk.NaiveBayesClassifier.train(featured_train)\n",
    "    score = nltk.classify.accuracy(classifier, featured_test)\n",
    "    accuracy_nb.append(score)\n",
    "    print(\"Fold: {}: accuracy = {}\".format(idx,score))\n",
    "\n",
    "print(\"10 fold Cross Validation accuracy = {}\".format(np.mean(accuracy_nb)))"
   ]
  },
  {
   "cell_type": "code",
   "execution_count": null,
   "metadata": {},
   "outputs": [],
   "source": []
  }
 ],
 "metadata": {
  "kernelspec": {
   "display_name": "Python 3",
   "language": "python",
   "name": "python3"
  },
  "language_info": {
   "codemirror_mode": {
    "name": "ipython",
    "version": 3
   },
   "file_extension": ".py",
   "mimetype": "text/x-python",
   "name": "python",
   "nbconvert_exporter": "python",
   "pygments_lexer": "ipython3",
   "version": "3.6.4"
  }
 },
 "nbformat": 4,
 "nbformat_minor": 2
}
