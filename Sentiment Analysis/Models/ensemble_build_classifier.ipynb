{
 "cells": [
  {
   "cell_type": "code",
   "execution_count": 1,
   "metadata": {},
   "outputs": [],
   "source": [
    "import pandas as pd\n",
    "import numpy as np\n",
    "from sklearn.externals import joblib\n",
    "import nltk\n",
    "from sklearn.svm import LinearSVC\n",
    "from sklearn.naive_bayes import GaussianNB\n",
    "from mlxtend.classifier import EnsembleVoteClassifier\n",
    "from sklearn.calibration import CalibratedClassifierCV\n"
   ]
  },
  {
   "cell_type": "code",
   "execution_count": 2,
   "metadata": {},
   "outputs": [],
   "source": [
    "def convert_features(sentence):\n",
    "    return {i:(i in sentence) for i in word_features}\n",
    "\n",
    "no_of_classes = 5\n",
    "\n",
    "if no_of_classes == 2: \n",
    "        dataset_path = '../Data/Datasets/Binary Classification/'\n",
    "else:\n",
    "    dataset_path = '../Data/Datasets/Multiclass Classification/'"
   ]
  },
  {
   "cell_type": "code",
   "execution_count": 3,
   "metadata": {},
   "outputs": [],
   "source": [
    "# create the sub models\n",
    "estimators = []\n",
    "#clf_nb = joblib.load(dataset_path+'nb_classifier.pkl')\n",
    "word_features = joblib.load('../Data/nb_word_features.pkl')\n",
    "\n",
    "#clf_svm = joblib.load(dataset_path+'svm_classifier.pkl')\n",
    "onehot_enc = joblib.load(dataset_path+'svm_encode.pkl')\n",
    "vocabulary = joblib.load('../Data/svm_vocabulary.pkl')"
   ]
  },
  {
   "cell_type": "code",
   "execution_count": 4,
   "metadata": {},
   "outputs": [
    {
     "name": "stdout",
     "output_type": "stream",
     "text": [
      "Holdout testing accuracy: 0.80042689434365\n"
     ]
    }
   ],
   "source": [
    "#hold out testing\n",
    "train = pd.read_csv(dataset_path+'train.csv', sep=\",\", header=None,index_col = False)\n",
    "test = pd.read_csv(dataset_path+'test.csv', sep=\",\", header=None,index_col = False)\n",
    "\n",
    "train['tokenized_sents'] = [nltk.word_tokenize(row[0]) for index, row in train.iterrows()]\n",
    "test['tokenized_sents'] = [nltk.word_tokenize(row[0]) for index, row in test.iterrows()]\n",
    "    \n",
    "\n",
    "featured_train = [(convert_features(row['tokenized_sents']), row[1]) for index, row in train.iterrows()]\n",
    "featured_test = [(convert_features(row['tokenized_sents']), row[1]) for index, row in test.iterrows()]\n",
    "\n",
    "lsvm = LinearSVC()\n",
    "lsvm = CalibratedClassifierCV(lsvm) \n",
    "lsvm.fit(onehot_enc.transform(train['tokenized_sents']), train[1])\n",
    "svm_pred = lsvm.predict(onehot_enc.transform(test['tokenized_sents']))\n",
    "svm_pred_prob = lsvm.predict_proba(onehot_enc.transform(test['tokenized_sents']))\n",
    "\n",
    "nb = nltk.NaiveBayesClassifier.train(featured_train)\n",
    "nb_pred = np.zeros((test.shape[0],no_of_classes))\n",
    "nb_pred_prob = np.zeros((test.shape[0],no_of_classes))\n",
    "for index, row in test.iterrows():\n",
    "    featured_item = (convert_features(row['tokenized_sents']))\n",
    "    nb_pred[index]  = int(nb.classify(featured_item))\n",
    "    p =nb.prob_classify(featured_item)\n",
    "    for label in p.samples():\n",
    "        nb_pred_prob[index][label] = p.prob(label)\n",
    "\n",
    "ensemble_pred = np.zeros((test.shape[0],1))  \n",
    "m=np.zeros((test.shape[0],5))\n",
    "for idx,item in enumerate(nb_pred_prob):\n",
    "    m[idx] = np.average([svm_pred_prob[idx], item], axis=0,weights=[1./4, 3./4])\n",
    "ensemble_pred = m.argmax(axis=1)\n",
    "\n",
    "eq = 0\n",
    "for i in range(test.shape[0]):\n",
    "    if ensemble_pred[i] == test[1][i]:\n",
    "        eq = eq +1\n",
    "\n",
    "score = eq/test.shape[0]\n",
    "print(\"Holdout testing accuracy: {}\".format(score))"
   ]
  },
  {
   "cell_type": "code",
   "execution_count": 8,
   "metadata": {},
   "outputs": [
    {
     "name": "stdout",
     "output_type": "stream",
     "text": [
      "Fold: 1: accuracy = 0.8492063492063492\n",
      "Fold: 2: accuracy = 0.8063660477453581\n",
      "Fold: 3: accuracy = 0.7898936170212766\n",
      "Fold: 4: accuracy = 0.8111702127659575\n",
      "Fold: 5: accuracy = 0.786096256684492\n",
      "Fold: 6: accuracy = 0.774798927613941\n",
      "Fold: 7: accuracy = 0.7801608579088471\n",
      "Fold: 8: accuracy = 0.7774798927613941\n",
      "Fold: 9: accuracy = 0.7453083109919572\n",
      "Fold: 10: accuracy = 0.8123324396782842\n",
      "10 fold Cross Validation accuracy = 0.7932812912377857\n"
     ]
    }
   ],
   "source": [
    "#cross validation testing\n",
    "folds = 10\n",
    "accuracy_esn = []\n",
    "for idx in range(1,folds+1):\n",
    "    train = pd.read_csv(dataset_path+'cv'+str(idx)+'_train.csv', sep=\",\", header=None,index_col = False)\n",
    "    test = pd.read_csv(dataset_path+'cv'+str(idx)+'_test.csv', sep=\",\", header=None,index_col = False)\n",
    "    \n",
    "    \n",
    "    train['tokenized_sents'] = [nltk.word_tokenize(row[0]) for index, row in train.iterrows()]\n",
    "    test['tokenized_sents'] = [nltk.word_tokenize(row[0]) for index, row in test.iterrows()]\n",
    "    \n",
    "    \n",
    "    featured_train = [(convert_features(row['tokenized_sents']), row[1]) for index, row in train.iterrows()]\n",
    "    featured_test = [(convert_features(row['tokenized_sents']), row[1]) for index, row in test.iterrows()]\n",
    "\n",
    "    lsvm = LinearSVC()\n",
    "    lsvm = CalibratedClassifierCV(lsvm) \n",
    "    lsvm.fit(onehot_enc.transform(train['tokenized_sents']), train[1])\n",
    "    svm_pred = lsvm.predict(onehot_enc.transform(test['tokenized_sents']))\n",
    "    svm_pred_prob = lsvm.predict_proba(onehot_enc.transform(test['tokenized_sents']))\n",
    "    \n",
    "    nb = nltk.NaiveBayesClassifier.train(featured_train)\n",
    "    nb_pred = np.zeros((test.shape[0],no_of_classes))\n",
    "    nb_pred_prob = np.zeros((test.shape[0],no_of_classes))\n",
    "    for index, row in test.iterrows():\n",
    "        featured_item = (convert_features(row['tokenized_sents']))\n",
    "        nb_pred[index]  = int(nb.classify(featured_item))\n",
    "        p =nb.prob_classify(featured_item)\n",
    "        for label in p.samples():\n",
    "            nb_pred_prob[index][label] = p.prob(label)\n",
    "\n",
    "    ensemble_pred = np.zeros((test.shape[0],1))  \n",
    "    m=np.zeros((test.shape[0],5))\n",
    "    for idy,item in enumerate(nb_pred_prob):\n",
    "        m[idy] = np.average([svm_pred_prob[idy], item], axis=0,weights=[1./4, 3./4])\n",
    "    ensemble_pred = m.argmax(axis=1)\n",
    "    \n",
    "    eq = 0\n",
    "    for i in range(test.shape[0]):\n",
    "        if ensemble_pred[i] == test[1][i]:\n",
    "            eq = eq +1\n",
    "            \n",
    "    score = eq/test.shape[0]\n",
    "    \n",
    "    \n",
    "    accuracy_esn.append(score)\n",
    "    print(\"Fold: {}: accuracy = {}\".format(idx,score))\n",
    "\n",
    "print(\"10 fold Cross Validation accuracy = {}\".format(np.mean(accuracy_esn)))"
   ]
  },
  {
   "cell_type": "code",
   "execution_count": null,
   "metadata": {},
   "outputs": [],
   "source": []
  }
 ],
 "metadata": {
  "kernelspec": {
   "display_name": "Python 3",
   "language": "python",
   "name": "python3"
  },
  "language_info": {
   "codemirror_mode": {
    "name": "ipython",
    "version": 3
   },
   "file_extension": ".py",
   "mimetype": "text/x-python",
   "name": "python",
   "nbconvert_exporter": "python",
   "pygments_lexer": "ipython3",
   "version": "3.6.4"
  }
 },
 "nbformat": 4,
 "nbformat_minor": 2
}
