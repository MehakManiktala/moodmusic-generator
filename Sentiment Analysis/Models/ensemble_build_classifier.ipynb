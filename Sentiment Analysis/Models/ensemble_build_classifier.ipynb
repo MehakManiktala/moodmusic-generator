{
 "cells": [
  {
   "cell_type": "code",
   "execution_count": 1,
   "metadata": {},
   "outputs": [],
   "source": [
    "import pandas as pd\n",
    "import numpy as np\n",
    "from sklearn.externals import joblib\n",
    "import nltk\n",
    "from sklearn.svm import LinearSVC\n",
    "from sklearn.naive_bayes import GaussianNB\n",
    "from mlxtend.classifier import EnsembleVoteClassifier\n",
    "from sklearn.calibration import CalibratedClassifierCV\n"
   ]
  },
  {
   "cell_type": "code",
   "execution_count": 2,
   "metadata": {},
   "outputs": [],
   "source": [
    "def convert_features(sentence):\n",
    "    return {i:(i in sentence) for i in word_features}\n",
    "\n",
    "no_of_classes = 5\n",
    "\n",
    "if no_of_classes == 2: \n",
    "        dataset_path = '../Data/Datasets/Binary Classification/'\n",
    "else:\n",
    "    dataset_path = '../Data/Datasets/Multiclass Classification/'"
   ]
  },
  {
   "cell_type": "code",
   "execution_count": 3,
   "metadata": {},
   "outputs": [],
   "source": [
    "# create the sub models\n",
    "estimators = []\n",
    "#clf_nb = joblib.load(dataset_path+'nb_classifier.pkl')\n",
    "word_features = joblib.load('../Data/nb_word_features.pkl')\n",
    "\n",
    "#clf_svm = joblib.load(dataset_path+'svm_classifier.pkl')\n",
    "onehot_enc = joblib.load(dataset_path+'svm_encode.pkl')\n",
    "vocabulary = joblib.load('../Data/svm_vocabulary.pkl')"
   ]
  },
  {
   "cell_type": "code",
   "execution_count": 4,
   "metadata": {},
   "outputs": [
    {
     "name": "stdout",
     "output_type": "stream",
     "text": [
      "Holdout testing accuracy: 0.80042689434365\n"
     ]
    }
   ],
   "source": [
    "#hold out testing\n",
    "train = pd.read_csv(dataset_path+'train.csv', sep=\",\", header=None,index_col = False)\n",
    "test = pd.read_csv(dataset_path+'test.csv', sep=\",\", header=None,index_col = False)\n",
    "\n",
    "train['tokenized_sents'] = [nltk.word_tokenize(row[0]) for index, row in train.iterrows()]\n",
    "test['tokenized_sents'] = [nltk.word_tokenize(row[0]) for index, row in test.iterrows()]\n",
    "    \n",
    "\n",
    "featured_train = [(convert_features(row['tokenized_sents']), row[1]) for index, row in train.iterrows()]\n",
    "featured_test = [(convert_features(row['tokenized_sents']), row[1]) for index, row in test.iterrows()]\n",
    "\n",
    "lsvm = LinearSVC()\n",
    "lsvm = CalibratedClassifierCV(lsvm) \n",
    "lsvm.fit(onehot_enc.transform(train['tokenized_sents']), train[1])\n",
    "svm_pred = lsvm.predict(onehot_enc.transform(test['tokenized_sents']))\n",
    "svm_pred_prob = lsvm.predict_proba(onehot_enc.transform(test['tokenized_sents']))\n",
    "\n",
    "nb = nltk.NaiveBayesClassifier.train(featured_train)\n",
    "nb_pred = np.zeros((test.shape[0],no_of_classes))\n",
    "nb_pred_prob = np.zeros((test.shape[0],no_of_classes))\n",
    "for index, row in test.iterrows():\n",
    "    featured_item = (convert_features(row['tokenized_sents']))\n",
    "    nb_pred[index]  = int(nb.classify(featured_item))\n",
    "    p =nb.prob_classify(featured_item)\n",
    "    for label in p.samples():\n",
    "        nb_pred_prob[index][label] = p.prob(label)\n",
    "\n",
    "ensemble_pred = np.zeros((test.shape[0],1))  \n",
    "m=np.zeros((test.shape[0],5))\n",
    "for idx,item in enumerate(nb_pred_prob):\n",
    "    m[idx] = np.average([svm_pred_prob[idx], item], axis=0,weights=[1./4, 3./4])\n",
    "ensemble_pred = m.argmax(axis=1)\n",
    "\n",
    "eq = 0\n",
    "for i in range(test.shape[0]):\n",
    "    if ensemble_pred[i] == test[1][i]:\n",
    "        eq = eq +1\n",
    "\n",
    "score = eq/test.shape[0]\n",
    "print(\"Holdout testing accuracy: {}\".format(score))"
   ]
  },
  {
   "cell_type": "code",
   "execution_count": 7,
   "metadata": {},
   "outputs": [
    {
     "name": "stdout",
     "output_type": "stream",
     "text": [
      "1\n"
     ]
    },
    {
     "ename": "KeyboardInterrupt",
     "evalue": "",
     "output_type": "error",
     "traceback": [
      "\u001b[1;31m---------------------------------------------------------------------------\u001b[0m",
      "\u001b[1;31mKeyboardInterrupt\u001b[0m                         Traceback (most recent call last)",
      "\u001b[1;32m<ipython-input-7-e3d489850f54>\u001b[0m in \u001b[0;36m<module>\u001b[1;34m()\u001b[0m\n\u001b[0;32m     12\u001b[0m \u001b[1;33m\u001b[0m\u001b[0m\n\u001b[0;32m     13\u001b[0m \u001b[1;33m\u001b[0m\u001b[0m\n\u001b[1;32m---> 14\u001b[1;33m     \u001b[0mfeatured_train\u001b[0m \u001b[1;33m=\u001b[0m \u001b[1;33m[\u001b[0m\u001b[1;33m(\u001b[0m\u001b[0mconvert_features\u001b[0m\u001b[1;33m(\u001b[0m\u001b[0mrow\u001b[0m\u001b[1;33m[\u001b[0m\u001b[1;34m'tokenized_sents'\u001b[0m\u001b[1;33m]\u001b[0m\u001b[1;33m)\u001b[0m\u001b[1;33m,\u001b[0m \u001b[0mrow\u001b[0m\u001b[1;33m[\u001b[0m\u001b[1;36m1\u001b[0m\u001b[1;33m]\u001b[0m\u001b[1;33m)\u001b[0m \u001b[1;32mfor\u001b[0m \u001b[0mindex\u001b[0m\u001b[1;33m,\u001b[0m \u001b[0mrow\u001b[0m \u001b[1;32min\u001b[0m \u001b[0mtrain\u001b[0m\u001b[1;33m.\u001b[0m\u001b[0miterrows\u001b[0m\u001b[1;33m(\u001b[0m\u001b[1;33m)\u001b[0m\u001b[1;33m]\u001b[0m\u001b[1;33m\u001b[0m\u001b[0m\n\u001b[0m\u001b[0;32m     15\u001b[0m     \u001b[0mfeatured_test\u001b[0m \u001b[1;33m=\u001b[0m \u001b[1;33m[\u001b[0m\u001b[1;33m(\u001b[0m\u001b[0mconvert_features\u001b[0m\u001b[1;33m(\u001b[0m\u001b[0mrow\u001b[0m\u001b[1;33m[\u001b[0m\u001b[1;34m'tokenized_sents'\u001b[0m\u001b[1;33m]\u001b[0m\u001b[1;33m)\u001b[0m\u001b[1;33m,\u001b[0m \u001b[0mrow\u001b[0m\u001b[1;33m[\u001b[0m\u001b[1;36m1\u001b[0m\u001b[1;33m]\u001b[0m\u001b[1;33m)\u001b[0m \u001b[1;32mfor\u001b[0m \u001b[0mindex\u001b[0m\u001b[1;33m,\u001b[0m \u001b[0mrow\u001b[0m \u001b[1;32min\u001b[0m \u001b[0mtest\u001b[0m\u001b[1;33m.\u001b[0m\u001b[0miterrows\u001b[0m\u001b[1;33m(\u001b[0m\u001b[1;33m)\u001b[0m\u001b[1;33m]\u001b[0m\u001b[1;33m\u001b[0m\u001b[0m\n\u001b[0;32m     16\u001b[0m \u001b[1;33m\u001b[0m\u001b[0m\n",
      "\u001b[1;32m<ipython-input-7-e3d489850f54>\u001b[0m in \u001b[0;36m<listcomp>\u001b[1;34m(.0)\u001b[0m\n\u001b[0;32m     12\u001b[0m \u001b[1;33m\u001b[0m\u001b[0m\n\u001b[0;32m     13\u001b[0m \u001b[1;33m\u001b[0m\u001b[0m\n\u001b[1;32m---> 14\u001b[1;33m     \u001b[0mfeatured_train\u001b[0m \u001b[1;33m=\u001b[0m \u001b[1;33m[\u001b[0m\u001b[1;33m(\u001b[0m\u001b[0mconvert_features\u001b[0m\u001b[1;33m(\u001b[0m\u001b[0mrow\u001b[0m\u001b[1;33m[\u001b[0m\u001b[1;34m'tokenized_sents'\u001b[0m\u001b[1;33m]\u001b[0m\u001b[1;33m)\u001b[0m\u001b[1;33m,\u001b[0m \u001b[0mrow\u001b[0m\u001b[1;33m[\u001b[0m\u001b[1;36m1\u001b[0m\u001b[1;33m]\u001b[0m\u001b[1;33m)\u001b[0m \u001b[1;32mfor\u001b[0m \u001b[0mindex\u001b[0m\u001b[1;33m,\u001b[0m \u001b[0mrow\u001b[0m \u001b[1;32min\u001b[0m \u001b[0mtrain\u001b[0m\u001b[1;33m.\u001b[0m\u001b[0miterrows\u001b[0m\u001b[1;33m(\u001b[0m\u001b[1;33m)\u001b[0m\u001b[1;33m]\u001b[0m\u001b[1;33m\u001b[0m\u001b[0m\n\u001b[0m\u001b[0;32m     15\u001b[0m     \u001b[0mfeatured_test\u001b[0m \u001b[1;33m=\u001b[0m \u001b[1;33m[\u001b[0m\u001b[1;33m(\u001b[0m\u001b[0mconvert_features\u001b[0m\u001b[1;33m(\u001b[0m\u001b[0mrow\u001b[0m\u001b[1;33m[\u001b[0m\u001b[1;34m'tokenized_sents'\u001b[0m\u001b[1;33m]\u001b[0m\u001b[1;33m)\u001b[0m\u001b[1;33m,\u001b[0m \u001b[0mrow\u001b[0m\u001b[1;33m[\u001b[0m\u001b[1;36m1\u001b[0m\u001b[1;33m]\u001b[0m\u001b[1;33m)\u001b[0m \u001b[1;32mfor\u001b[0m \u001b[0mindex\u001b[0m\u001b[1;33m,\u001b[0m \u001b[0mrow\u001b[0m \u001b[1;32min\u001b[0m \u001b[0mtest\u001b[0m\u001b[1;33m.\u001b[0m\u001b[0miterrows\u001b[0m\u001b[1;33m(\u001b[0m\u001b[1;33m)\u001b[0m\u001b[1;33m]\u001b[0m\u001b[1;33m\u001b[0m\u001b[0m\n\u001b[0;32m     16\u001b[0m \u001b[1;33m\u001b[0m\u001b[0m\n",
      "\u001b[1;32m~\\Anaconda3\\lib\\site-packages\\pandas\\core\\series.py\u001b[0m in \u001b[0;36m__getitem__\u001b[1;34m(self, key)\u001b[0m\n\u001b[0;32m    765\u001b[0m         \u001b[0mkey\u001b[0m \u001b[1;33m=\u001b[0m \u001b[0mcom\u001b[0m\u001b[1;33m.\u001b[0m\u001b[0m_apply_if_callable\u001b[0m\u001b[1;33m(\u001b[0m\u001b[0mkey\u001b[0m\u001b[1;33m,\u001b[0m \u001b[0mself\u001b[0m\u001b[1;33m)\u001b[0m\u001b[1;33m\u001b[0m\u001b[0m\n\u001b[0;32m    766\u001b[0m         \u001b[1;32mtry\u001b[0m\u001b[1;33m:\u001b[0m\u001b[1;33m\u001b[0m\u001b[0m\n\u001b[1;32m--> 767\u001b[1;33m             \u001b[0mresult\u001b[0m \u001b[1;33m=\u001b[0m \u001b[0mself\u001b[0m\u001b[1;33m.\u001b[0m\u001b[0mindex\u001b[0m\u001b[1;33m.\u001b[0m\u001b[0mget_value\u001b[0m\u001b[1;33m(\u001b[0m\u001b[0mself\u001b[0m\u001b[1;33m,\u001b[0m \u001b[0mkey\u001b[0m\u001b[1;33m)\u001b[0m\u001b[1;33m\u001b[0m\u001b[0m\n\u001b[0m\u001b[0;32m    768\u001b[0m \u001b[1;33m\u001b[0m\u001b[0m\n\u001b[0;32m    769\u001b[0m             \u001b[1;32mif\u001b[0m \u001b[1;32mnot\u001b[0m \u001b[0mis_scalar\u001b[0m\u001b[1;33m(\u001b[0m\u001b[0mresult\u001b[0m\u001b[1;33m)\u001b[0m\u001b[1;33m:\u001b[0m\u001b[1;33m\u001b[0m\u001b[0m\n",
      "\u001b[1;32m~\\Anaconda3\\lib\\site-packages\\pandas\\core\\indexes\\base.py\u001b[0m in \u001b[0;36mget_value\u001b[1;34m(self, series, key)\u001b[0m\n\u001b[0;32m   3110\u001b[0m                     \u001b[1;32mreturn\u001b[0m \u001b[0ms\u001b[0m\u001b[1;33m[\u001b[0m\u001b[0mkey\u001b[0m\u001b[1;33m]\u001b[0m\u001b[1;33m\u001b[0m\u001b[0m\n\u001b[0;32m   3111\u001b[0m \u001b[1;33m\u001b[0m\u001b[0m\n\u001b[1;32m-> 3112\u001b[1;33m         \u001b[0ms\u001b[0m \u001b[1;33m=\u001b[0m \u001b[0mcom\u001b[0m\u001b[1;33m.\u001b[0m\u001b[0m_values_from_object\u001b[0m\u001b[1;33m(\u001b[0m\u001b[0mseries\u001b[0m\u001b[1;33m)\u001b[0m\u001b[1;33m\u001b[0m\u001b[0m\n\u001b[0m\u001b[0;32m   3113\u001b[0m         \u001b[0mk\u001b[0m \u001b[1;33m=\u001b[0m \u001b[0mcom\u001b[0m\u001b[1;33m.\u001b[0m\u001b[0m_values_from_object\u001b[0m\u001b[1;33m(\u001b[0m\u001b[0mkey\u001b[0m\u001b[1;33m)\u001b[0m\u001b[1;33m\u001b[0m\u001b[0m\n\u001b[0;32m   3114\u001b[0m \u001b[1;33m\u001b[0m\u001b[0m\n",
      "\u001b[1;31mKeyboardInterrupt\u001b[0m: "
     ]
    }
   ],
   "source": [
    "#cross validation testing\n",
    "folds = 10\n",
    "accuracy_esn = []\n",
    "for idx in range(1,folds+1):\n",
    "    train = pd.read_csv(dataset_path+'cv'+str(idx)+'_train.csv', sep=\",\", header=None,index_col = False)\n",
    "    test = pd.read_csv(dataset_path+'cv'+str(idx)+'_test.csv', sep=\",\", header=None,index_col = False)\n",
    "    \n",
    "    \n",
    "    train['tokenized_sents'] = [nltk.word_tokenize(row[0]) for index, row in train.iterrows()]\n",
    "    test['tokenized_sents'] = [nltk.word_tokenize(row[0]) for index, row in test.iterrows()]\n",
    "    \n",
    "    \n",
    "    featured_train = [(convert_features(row['tokenized_sents']), row[1]) for index, row in train.iterrows()]\n",
    "    featured_test = [(convert_features(row['tokenized_sents']), row[1]) for index, row in test.iterrows()]\n",
    "\n",
    "    lsvm = LinearSVC()\n",
    "    lsvm = CalibratedClassifierCV(lsvm) \n",
    "    lsvm.fit(onehot_enc.transform(train['tokenized_sents']), train[1])\n",
    "    svm_pred = lsvm.predict(onehot_enc.transform(test['tokenized_sents']))\n",
    "    svm_pred_prob = lsvm.predict_proba(onehot_enc.transform(test['tokenized_sents']))\n",
    "    \n",
    "    nb = nltk.NaiveBayesClassifier.train(featured_train)\n",
    "    nb_pred = np.zeros((test.shape[0],no_of_classes))\n",
    "    nb_pred_prob = np.zeros((test.shape[0],no_of_classes))\n",
    "    for index, row in test.iterrows():\n",
    "        featured_item = (convert_features(row['tokenized_sents']))\n",
    "        nb_pred[index]  = int(nb.classify(featured_item))\n",
    "        p =nb.prob_classify(featured_item)\n",
    "        for label in p.samples():\n",
    "            nb_pred_prob[index][label] = p.prob(label)\n",
    "\n",
    "    ensemble_pred = np.zeros((test.shape[0],1))  \n",
    "    m=np.zeros((test.shape[0],5))\n",
    "    for idy,item in enumerate(nb_pred_prob):\n",
    "        m[idy] = np.average([svm_pred_prob[idy], item], axis=0,weights=[1./4, 3./4])\n",
    "    ensemble_pred = m.argmax(axis=1)\n",
    "    \n",
    "    eq = 0\n",
    "    for i in range(test.shape[0]):\n",
    "        if ensemble_pred[i] == test[1][i]:\n",
    "            eq = eq +1\n",
    "            \n",
    "    score = eq/test.shape[0]\n",
    "    \n",
    "    \n",
    "    accuracy_esn.append(score)\n",
    "    print(\"Fold: {}: accuracy = {}\".format(idx,score))\n",
    "\n",
    "print(\"10 fold Cross Validation accuracy = {}\".format(np.mean(accuracy_esn)))"
   ]
  },
  {
   "cell_type": "code",
   "execution_count": null,
   "metadata": {},
   "outputs": [],
   "source": []
  }
 ],
 "metadata": {
  "kernelspec": {
   "display_name": "Python 3",
   "language": "python",
   "name": "python3"
  },
  "language_info": {
   "codemirror_mode": {
    "name": "ipython",
    "version": 3
   },
   "file_extension": ".py",
   "mimetype": "text/x-python",
   "name": "python",
   "nbconvert_exporter": "python",
   "pygments_lexer": "ipython3",
   "version": "3.6.4"
  }
 },
 "nbformat": 4,
 "nbformat_minor": 2
}
