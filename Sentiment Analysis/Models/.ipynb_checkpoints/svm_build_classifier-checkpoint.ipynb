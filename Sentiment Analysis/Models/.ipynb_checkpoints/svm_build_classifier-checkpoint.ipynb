{
 "cells": [
  {
   "cell_type": "code",
   "execution_count": 6,
   "metadata": {},
   "outputs": [],
   "source": [
    "from sklearn.naive_bayes import GaussianNB\n",
    "from sklearn import datasets\n",
    "import nltk\n",
    "from nltk.tokenize import sent_tokenize, word_tokenize\n",
    "import pandas as pd\n",
    "from nltk.metrics import ConfusionMatrix\n",
    "import numpy as np\n",
    "from sklearn.svm import SVC\n",
    "from sklearn.preprocessing import MultiLabelBinarizer\n",
    "from sklearn.externals import joblib\n",
    "from sklearn.svm import LinearSVC\n",
    "from sklearn.calibration import CalibratedClassifierCV"
   ]
  },
  {
   "cell_type": "code",
   "execution_count": 2,
   "metadata": {},
   "outputs": [],
   "source": [
    "emo=2\n",
    "\n",
    "if emo == 2: \n",
    "    dataset_path = '../Data/Datasets/Binary Classification/'\n",
    "else:\n",
    "    dataset_path = '../Data/Datasets/Multiclass Classification/'"
   ]
  },
  {
   "cell_type": "code",
   "execution_count": 7,
   "metadata": {},
   "outputs": [
    {
     "data": {
      "text/plain": [
       "['../Data/Datasets/Binary Classification/svm_encode.pkl']"
      ]
     },
     "execution_count": 7,
     "metadata": {},
     "output_type": "execute_result"
    }
   ],
   "source": [
    "#save the classifier\n",
    "train = pd.read_csv(dataset_path+'train.csv', sep=\",\", header=None,index_col = False)\n",
    "test = pd.read_csv(dataset_path+'test.csv', sep=\",\", header=None,index_col = False)\n",
    "\n",
    "whole_ds = train.append(test,ignore_index=True )\n",
    "whole_ds['tokenized_sents'] = whole_ds.apply(lambda row: nltk.word_tokenize(row[0]), axis=1)\n",
    "\n",
    "onehot_enc = MultiLabelBinarizer()\n",
    "onehot_enc.fit(whole_ds['tokenized_sents'])\n",
    "\n",
    "lsvm = LinearSVC()\n",
    "lsvm = CalibratedClassifierCV(lsvm) \n",
    "lsvm.fit(onehot_enc.transform(whole_ds['tokenized_sents']), whole_ds[1])\n",
    "joblib.dump(lsvm, dataset_path+'svm_classifier.pkl') \n",
    "joblib.dump(onehot_enc,dataset_path+'svm_encode.pkl')"
   ]
  },
  {
   "cell_type": "code",
   "execution_count": 4,
   "metadata": {},
   "outputs": [
    {
     "name": "stdout",
     "output_type": "stream",
     "text": [
      "0.960820895522388\n",
      "0.9328358208955224\n",
      "0.9645522388059702\n",
      "0.9384328358208955\n",
      "0.947565543071161\n",
      "0.898876404494382\n",
      "0.8295880149812734\n"
     ]
    }
   ],
   "source": [
    "accuracy_svm = []\n",
    "folds = 7\n",
    "\n",
    "for idx in range(1,folds+1):\n",
    "    \n",
    "    train = pd.read_csv(dataset_path+'cv'+str(idx)+'_train.csv', sep=\",\", header=None,index_col = False)\n",
    "    test = pd.read_csv(dataset_path+'cv'+str(idx)+'_test.csv', sep=\",\", header=None,index_col = False)\n",
    "    \n",
    "    train['tokenized_sents'] = train.apply(lambda row: nltk.word_tokenize(row[0]), axis=1)\n",
    "    test['tokenized_sents'] = test.apply(lambda row: nltk.word_tokenize(row[0]), axis=1)\n",
    "\n",
    "    lsvm = LinearSVC()\n",
    "    lsvm.fit(onehot_enc.transform(train['tokenized_sents']), train[1])\n",
    "\n",
    "    score = lsvm.score(onehot_enc.transform(test['tokenized_sents']), test[1])\n",
    "    accuracy_svm.append(score)\n",
    "    print(score)"
   ]
  },
  {
   "cell_type": "code",
   "execution_count": 5,
   "metadata": {},
   "outputs": [
    {
     "name": "stdout",
     "output_type": "stream",
     "text": [
      "[0.8905380333951762, 0.8547486033519553, 0.8632958801498127, 0.8333333333333334, 0.8614232209737828, 0.8295880149812734, 0.8314606741573034]\n"
     ]
    }
   ],
   "source": [
    "print(accuracy_svm)"
   ]
  },
  {
   "cell_type": "code",
   "execution_count": null,
   "metadata": {},
   "outputs": [],
   "source": [
    "clf.predict_proba(X_test)"
   ]
  }
 ],
 "metadata": {
  "kernelspec": {
   "display_name": "Python 3",
   "language": "python",
   "name": "python3"
  },
  "language_info": {
   "codemirror_mode": {
    "name": "ipython",
    "version": 3
   },
   "file_extension": ".py",
   "mimetype": "text/x-python",
   "name": "python",
   "nbconvert_exporter": "python",
   "pygments_lexer": "ipython3",
   "version": "3.6.4"
  }
 },
 "nbformat": 4,
 "nbformat_minor": 2
}
