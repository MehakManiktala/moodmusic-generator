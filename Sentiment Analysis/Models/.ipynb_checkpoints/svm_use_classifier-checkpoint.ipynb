{
 "cells": [
  {
   "cell_type": "code",
   "execution_count": 10,
   "metadata": {},
   "outputs": [],
   "source": [
    "from nltk.tokenize import sent_tokenize, word_tokenize\n",
    "import pandas as pd\n",
    "import numpy as np\n",
    "from sklearn.externals import joblib\n",
    "import nltk\n",
    "import nbimporter\n",
    "from h_process_test import process_data\n",
    "from sklearn.calibration import CalibratedClassifierCV"
   ]
  },
  {
   "cell_type": "code",
   "execution_count": 2,
   "metadata": {},
   "outputs": [],
   "source": [
    "emo =2"
   ]
  },
  {
   "cell_type": "code",
   "execution_count": 3,
   "metadata": {},
   "outputs": [],
   "source": [
    "if emo == 2: \n",
    "    dataset_path = '../Data/Datasets/Binary Classification/'\n",
    "else:\n",
    "    dataset_path = '../Data/Datasets/Multiclass Classification/'"
   ]
  },
  {
   "cell_type": "code",
   "execution_count": 12,
   "metadata": {},
   "outputs": [],
   "source": [
    "clf = joblib.load(dataset_path+'svm_classifier.pkl')\n",
    "onehot_enc = joblib.load(dataset_path+'svm_encode.pkl')\n",
    "vocabulary = joblib.load('../Data/svm_vocabulary.pkl')"
   ]
  },
  {
   "cell_type": "code",
   "execution_count": 5,
   "metadata": {},
   "outputs": [],
   "source": [
    "input_text = \"What a pleasant day to test the sentiment analyzing model. Svm is doing really good. Oh, no, the second is not so good. Oh, well, as long as we get a good working output, we are fine.\""
   ]
  },
  {
   "cell_type": "code",
   "execution_count": 6,
   "metadata": {},
   "outputs": [],
   "source": [
    "input_sent = sent_tokenize(input_text)\n",
    "input_sentences = pd.DataFrame(data=input_sent)\n",
    "input_sentences = process_data(input_sentences[0])\n",
    "tokenized_input_sent = [word_tokenize(s) for s in input_sentences]"
   ]
  },
  {
   "cell_type": "code",
   "execution_count": 7,
   "metadata": {},
   "outputs": [
    {
     "name": "stdout",
     "output_type": "stream",
     "text": [
      "True\n"
     ]
    }
   ],
   "source": [
    "for line in tokenized_input_sent:\n",
    "    for w in reversed(line):\n",
    "        if(w not in vocabulary):\n",
    "            line.remove(w)\n",
    "print('wonders' in vocabulary)\n",
    "#clean_tok_input = [x for l1 in tokenized_input_sent for x in l1 if x in vocabulary ]"
   ]
  },
  {
   "cell_type": "code",
   "execution_count": 14,
   "metadata": {
    "scrolled": true
   },
   "outputs": [
    {
     "name": "stdout",
     "output_type": "stream",
     "text": [
      "[1 0 1 0]\n"
     ]
    }
   ],
   "source": [
    "pred = clf.predict(onehot_enc.transform(tokenized_input_sent))\n",
    "pred_prob = clf.predict_proba(onehot_enc.transform(tokenized_input_sent))\n",
    "print(pred)"
   ]
  },
  {
   "cell_type": "code",
   "execution_count": 61,
   "metadata": {},
   "outputs": [],
   "source": [
    "def get_emotion(value):\n",
    "    if emo ==2:\n",
    "        unique_labels = [\"Positive\",\"Negative\"]\n",
    "    else:\n",
    "        unique_labels = [\"Happy\",\"Surprise\",\"Anger\",\"Fear\",\"Sadness\"]\n",
    "    return unique_labels[value]"
   ]
  },
  {
   "cell_type": "code",
   "execution_count": 62,
   "metadata": {},
   "outputs": [],
   "source": [
    "output = []\n",
    "for i, sentence in enumerate(input_sent):\n",
    "    output_line = sentence + '. #' + get_emotion(int(pred[i]))\n",
    "    output.append(output_line)"
   ]
  },
  {
   "cell_type": "code",
   "execution_count": 63,
   "metadata": {},
   "outputs": [
    {
     "name": "stdout",
     "output_type": "stream",
     "text": [
      "['What a pleasant day to test the sentiment analyzing model.. #Negative', 'Svm is doing really good.. #Positive', 'Oh, no, the second is not so good.. #Negative', 'Oh, well, as long as we get a good working output, we are fine.. #Positive']\n"
     ]
    }
   ],
   "source": [
    "print(output)"
   ]
  },
  {
   "cell_type": "code",
   "execution_count": null,
   "metadata": {},
   "outputs": [],
   "source": [
    "index = 0\n",
    "import os\n",
    "sentenceDir = \"../inputsentences\"\n",
    "print(sentenceDir)\n",
    "\n",
    "import os\n",
    "for sentence in output:\n",
    "    filename = os.path.join(sentenceDir, \"sentence\"+str(index)+\".moodsentence\")\n",
    "    index += 1\n",
    "    f= open(filename,'w+')\n",
    "    f.write(sentence)\n",
    "    f.close"
   ]
  },
  {
   "cell_type": "code",
   "execution_count": null,
   "metadata": {},
   "outputs": [],
   "source": []
  }
 ],
 "metadata": {
  "kernelspec": {
   "display_name": "Python 3",
   "language": "python",
   "name": "python3"
  },
  "language_info": {
   "codemirror_mode": {
    "name": "ipython",
    "version": 3
   },
   "file_extension": ".py",
   "mimetype": "text/x-python",
   "name": "python",
   "nbconvert_exporter": "python",
   "pygments_lexer": "ipython3",
   "version": "3.6.4"
  }
 },
 "nbformat": 4,
 "nbformat_minor": 2
}
