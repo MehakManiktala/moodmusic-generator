{
 "cells": [
  {
   "cell_type": "code",
   "execution_count": null,
   "metadata": {},
   "outputs": [
    {
     "name": "stderr",
     "output_type": "stream",
     "text": [
      "C:\\Users\\mehak\\Anaconda3\\lib\\site-packages\\h5py\\__init__.py:36: FutureWarning: Conversion of the second argument of issubdtype from `float` to `np.floating` is deprecated. In future, it will be treated as `np.float64 == np.dtype(float).type`.\n",
      "  from ._conv import register_converters as _register_converters\n",
      "Using TensorFlow backend.\n"
     ]
    }
   ],
   "source": [
    "import numpy as np\n",
    "import pandas as pd\n",
    "from numpy import array\n",
    "from numpy import argmax\n",
    "from keras.utils import to_categorical\n",
    "from keras.models import Model\n",
    "from keras.layers import Dense, Input, Dropout, LSTM, Activation, GRU, Bidirectional, MaxPooling1D, Conv1D, Flatten\n",
    "from keras.layers.embeddings import Embedding\n",
    "from keras.preprocessing import sequence\n",
    "from keras.initializers import glorot_uniform, he_uniform, zeros\n",
    "from keras.optimizers import SGD, Adam, Adadelta\n",
    "from keras import regularizers\n",
    "from keras.layers.normalization import BatchNormalization\n",
    "from keras import metrics\n",
    "from sklearn.externals import joblib"
   ]
  },
  {
   "cell_type": "code",
   "execution_count": null,
   "metadata": {},
   "outputs": [],
   "source": [
    "def import_textFile(filePath):\n",
    "    ds_text = []\n",
    "    with open(filePath,'rb') as f:\n",
    "        for idx,ln in enumerate(f):\n",
    "            decoded=False\n",
    "            line=''\n",
    "            for cp in ('cp1252', 'cp850','utf-8','utf8'):\n",
    "                try:\n",
    "                    line = ln.decode(cp)\n",
    "                    decoded=True\n",
    "                    break\n",
    "                except UnicodeDecodeError:\n",
    "                    pass\n",
    "            if decoded:\n",
    "                ds_text.insert(idx, line.rstrip())\n",
    "    return ds_text"
   ]
  },
  {
   "cell_type": "code",
   "execution_count": null,
   "metadata": {},
   "outputs": [],
   "source": [
    "emo=5"
   ]
  },
  {
   "cell_type": "code",
   "execution_count": null,
   "metadata": {},
   "outputs": [],
   "source": [
    "if emo == 2: \n",
    "    dataset_path = '../Data/Datasets/Binary Classification/'\n",
    "else:\n",
    "    dataset_path = '../Data/Datasets/Multiclass Classification/'\n",
    "    \n",
    "train_ds = pd.read_csv(dataset_path+'train.csv', sep=\",\", header=None,index_col = False)\n",
    "test_ds = pd.read_csv(dataset_path+'test.csv', sep=\",\", header=None,index_col = False)\n",
    "\n",
    "x_train = train_ds[0]\n",
    "y_train = train_ds[1]\n",
    "\n",
    "x_test = test_ds[0]\n",
    "y_test = test_ds[1]"
   ]
  },
  {
   "cell_type": "code",
   "execution_count": null,
   "metadata": {},
   "outputs": [],
   "source": [
    "maxLen = len(max(x_train, key=len).split())\n",
    "print(maxLen)"
   ]
  },
  {
   "cell_type": "code",
   "execution_count": null,
   "metadata": {},
   "outputs": [],
   "source": [
    "def get_one_hot(y):\n",
    "    one_hot_temp_array = array(y)\n",
    "    one_hot_array = to_categorical(one_hot_temp_array)\n",
    "    return one_hot_array\n",
    "# invert encoding\n",
    "#inverted = argmax(encoded[0])"
   ]
  },
  {
   "cell_type": "code",
   "execution_count": null,
   "metadata": {},
   "outputs": [],
   "source": [
    "#load glove diembedding_dict = dict()\n",
    "embedding_dict = joblib.load('../Data/rnn_embedding_dict.pkl')\n",
    "glove_words = joblib.load('../Data/rnn_glove_words.pkl')\n",
    "number_to_word = glove_words\n",
    "word_to_number = dict((word,idx) for idx,word in enumerate(glove_words))"
   ]
  },
  {
   "cell_type": "code",
   "execution_count": null,
   "metadata": {},
   "outputs": [],
   "source": [
    "def get_indices(input_x, word_to_number, max_len):\n",
    "    m = input_x.shape[0]\n",
    "    x_indices = np.zeros((m,max_len))\n",
    "\n",
    "    for i in range(m):\n",
    "        word_list =input_x.iloc[i][0].lower().split()\n",
    "        for idx,word in enumerate(word_list):\n",
    "            if (idx ==32):\n",
    "                continue\n",
    "            x_indices[i, idx] = word_to_number[word]\n",
    "    return x_indices"
   ]
  },
  {
   "cell_type": "code",
   "execution_count": null,
   "metadata": {},
   "outputs": [],
   "source": [
    "def get_embedding_layer(embedding_dict, word_to_number):\n",
    "    \n",
    "    emb_shape = embedding_dict[\"cucumber\"].shape[0]\n",
    "    total_words = len(word_to_number) + 1\n",
    "    \n",
    "    emb_matrix = np.zeros((total_words,emb_shape))\n",
    "    \n",
    "    for word,idx in word_to_number.items():\n",
    "        emb_matrix[idx, :] = embedding_dict[word]\n",
    "\n",
    "    embedding_layer = Embedding(total_words, emb_shape, trainable = True)\n",
    "    embedding_layer.build((None,))\n",
    "    embedding_layer.set_weights([emb_matrix])\n",
    "    \n",
    "    return embedding_layer"
   ]
  },
  {
   "cell_type": "code",
   "execution_count": null,
   "metadata": {},
   "outputs": [],
   "source": [
    "def senti_model(input_shape,embedding_dict, word_to_number):\n",
    "    #np.random.seed(1)\n",
    "    sentence_indices = Input(shape = input_shape, dtype = np.int32)\n",
    "    embedding_layer = get_embedding_layer(embedding_dict, word_to_number)\n",
    "    \n",
    "    embeddings = embedding_layer(sentence_indices)   \n",
    "    X = Dropout(0.4)(embeddings)\n",
    "    X = Bidirectional(GRU(64,return_sequences=True))(X)\n",
    "    X = Dense(16, activation='elu')(X)\n",
    "    X = Bidirectional(GRU(64,return_sequences=False))(X)\n",
    "    X = Dense(64, activation='elu')(X)\n",
    "    X = Dense(emo, activation='softmax', name='fc')(X)\n",
    "\n",
    "\n",
    "\n",
    "    #X = Activation('softmax')(X)\n",
    "    \n",
    "    model = Model(inputs = sentence_indices, outputs = X, name='sentiment')\n",
    "    \n",
    "    return model"
   ]
  },
  {
   "cell_type": "code",
   "execution_count": null,
   "metadata": {
    "scrolled": true
   },
   "outputs": [],
   "source": [
    "model = senti_model((maxLen,), embedding_dict, word_to_number)\n",
    "model.summary()"
   ]
  },
  {
   "cell_type": "code",
   "execution_count": null,
   "metadata": {},
   "outputs": [],
   "source": [
    "sgd = SGD(lr=0.001, decay=1e-6, momentum=0.9, nesterov=True)\n",
    "adam = Adam(lr=0.0001)\n",
    "adadelta = Adadelta(lr=1.00, rho=0.95, epsilon=None, decay=0.0)\n",
    "model.compile(loss='categorical_crossentropy', optimizer=adadelta, metrics=[metrics.categorical_accuracy])"
   ]
  },
  {
   "cell_type": "code",
   "execution_count": null,
   "metadata": {
    "scrolled": true
   },
   "outputs": [],
   "source": [
    "x_train_indices = get_indices(x_train, word_to_number, maxLen)\n",
    "y_train_oh = get_one_hot(y_train)\n",
    "print(y_train_oh.shape)"
   ]
  },
  {
   "cell_type": "code",
   "execution_count": null,
   "metadata": {
    "scrolled": true
   },
   "outputs": [],
   "source": [
    "model.fit(x_train_indices, y_train_oh, epochs = 200, batch_size = 64, shuffle=True)"
   ]
  },
  {
   "cell_type": "code",
   "execution_count": null,
   "metadata": {},
   "outputs": [],
   "source": [
    "x_test_indices = get_indices(x_test, word_to_number, max_len = maxLen)\n",
    "y_test_oh = get_one_hot(y_test)\n",
    "loss, acc = model.evaluate(x_test_indices, y_test_oh)\n",
    "print()\n",
    "print(\"Test accuracy = \", acc)"
   ]
  },
  {
   "cell_type": "code",
   "execution_count": null,
   "metadata": {},
   "outputs": [],
   "source": []
  }
 ],
 "metadata": {
  "kernelspec": {
   "display_name": "Python 3",
   "language": "python",
   "name": "python3"
  },
  "language_info": {
   "codemirror_mode": {
    "name": "ipython",
    "version": 3
   },
   "file_extension": ".py",
   "mimetype": "text/x-python",
   "name": "python",
   "nbconvert_exporter": "python",
   "pygments_lexer": "ipython3",
   "version": "3.6.4"
  }
 },
 "nbformat": 4,
 "nbformat_minor": 2
}
