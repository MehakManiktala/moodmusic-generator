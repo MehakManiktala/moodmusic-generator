{
 "cells": [
  {
   "cell_type": "code",
   "execution_count": 6,
   "metadata": {},
   "outputs": [],
   "source": [
    "from sklearn.naive_bayes import GaussianNB\n",
    "from sklearn import datasets\n",
    "import nltk\n",
    "from nltk.tokenize import sent_tokenize, word_tokenize\n",
    "import pandas as pd\n",
    "from nltk.metrics import ConfusionMatrix\n",
    "import numpy as np\n",
    "from sklearn.externals import joblib"
   ]
  },
  {
   "cell_type": "code",
   "execution_count": 7,
   "metadata": {},
   "outputs": [],
   "source": [
    "emo = 5\n",
    "\n",
    "if emo == 2: \n",
    "    dataset_path = '../Data/Datasets/Binary Classification/'\n",
    "else:\n",
    "    dataset_path = '../Data/Datasets/Multiclass Classification/'"
   ]
  },
  {
   "cell_type": "code",
   "execution_count": 8,
   "metadata": {},
   "outputs": [],
   "source": [
    "def convert_features(sentence):\n",
    "    return {i:(i in sentence) for i in word_features}"
   ]
  },
  {
   "cell_type": "code",
   "execution_count": 9,
   "metadata": {},
   "outputs": [
    {
     "data": {
      "text/plain": [
       "['../Data/Datasets/Multiclass Classification/nb_classifier.pkl']"
      ]
     },
     "execution_count": 9,
     "metadata": {},
     "output_type": "execute_result"
    }
   ],
   "source": [
    "#save the classifier based on the whole dataset\n",
    "train = pd.read_csv(dataset_path+'train.csv', sep=\",\", header=None,index_col = False)\n",
    "test = pd.read_csv(dataset_path+'test.csv', sep=\",\", header=None,index_col = False)\n",
    "\n",
    "whole_ds = train.append(test,ignore_index=True )\n",
    "whole_ds['tokenized_sents'] = whole_ds.apply(lambda row: nltk.word_tokenize(row[0]), axis=1)\n",
    "\n",
    "all_words = []\n",
    "for line in whole_ds['tokenized_sents']:\n",
    "    for w in line:\n",
    "        all_words.append(w.lower())\n",
    "all_words = nltk.FreqDist(all_words)\n",
    "word_features = list(all_words.keys())\n",
    "joblib.dump(word_features, '../Data/nb_word_features.pkl') \n",
    "\n",
    "\n",
    "featured_whole_ds = [(convert_features(row['tokenized_sents']), row[1]) for index, row in whole_ds.iterrows()]\n",
    "classifier = nltk.NaiveBayesClassifier.train(featured_whole_ds)\n",
    "joblib.dump(classifier, dataset_path+'nb_classifier.pkl') "
   ]
  },
  {
   "cell_type": "code",
   "execution_count": 11,
   "metadata": {},
   "outputs": [
    {
     "name": "stdout",
     "output_type": "stream",
     "text": [
      "0.7746478873239436\n",
      "0.7676056338028169\n",
      "0.7703180212014135\n",
      "0.773851590106007\n",
      "0.7173144876325088\n",
      "0.697508896797153\n",
      "0.6881720430107527\n"
     ]
    }
   ],
   "source": [
    "accuracy_nb = []\n",
    "folds = 7\n",
    "\n",
    "for idx in range(1,folds+1):\n",
    "    \n",
    "    train = pd.read_csv(dataset_path+'cv'+str(idx)+'_train.csv', sep=\",\", header=None,index_col = False)\n",
    "    test = pd.read_csv(dataset_path+'cv'+str(idx)+'_test.csv', sep=\",\", header=None,index_col = False)\n",
    "    \n",
    "    train['tokenized_sents'] = train.apply(lambda row: nltk.word_tokenize(row[0]), axis=1)\n",
    "    featured_train = [(convert_features(row['tokenized_sents']), row[1]) for index, row in train.iterrows()]\n",
    "    test['tokenized_sents'] = test.apply(lambda row: nltk.word_tokenize(row[0]), axis=1)\n",
    "    featured_test = [(convert_features(row['tokenized_sents']), row[1]) for index, row in test.iterrows()]\n",
    "\n",
    "    classifier = nltk.NaiveBayesClassifier.train(featured_train)\n",
    "    score = nltk.classify.accuracy(classifier, featured_test)\n",
    "    accuracy_nb.append(score)\n",
    "    print(score)"
   ]
  },
  {
   "cell_type": "code",
   "execution_count": null,
   "metadata": {},
   "outputs": [],
   "source": []
  },
  {
   "cell_type": "code",
   "execution_count": 26,
   "metadata": {},
   "outputs": [
    {
     "name": "stdout",
     "output_type": "stream",
     "text": [
      "[[ 89.   2.   0.   4.   6.]\n",
      " [ 13.  18.   5.  15.   2.]\n",
      " [  4.   3.  78.  10.   8.]\n",
      " [  2.   1.   5. 122.  12.]\n",
      " [  5.   1.   6.  31.  53.]]\n",
      "0.7272727272727273\n"
     ]
    }
   ],
   "source": [
    "pred = np.zeros((test.shape[0],1))\n",
    "for index, row in test.iterrows():\n",
    "    featured_item = (convert_features(row['tokenized_sents']))\n",
    "    pred[index]  = int(classifier.classify(featured_item))\n",
    "test['prediction'] = pred\n",
    "\n",
    "confusion_matrix = np.zeros((5,5))\n",
    "for index, row in test.iterrows():\n",
    "    ind_i = row[1]\n",
    "    ind_j = int(row['prediction'])\n",
    "    confusion_matrix[ind_i][ind_j] = confusion_matrix[ind_i][ind_j] + 1\n",
    "        \n",
    "print(confusion_matrix)\n",
    "\n",
    "accuracy = (confusion_matrix[1,1]+confusion_matrix[2,2]+confusion_matrix[0,0]+confusion_matrix[4,4]+confusion_matrix[3,3])/test.shape[0]\n",
    "print(accuracy)\n"
   ]
  }
 ],
 "metadata": {
  "kernelspec": {
   "display_name": "Python 3",
   "language": "python",
   "name": "python3"
  },
  "language_info": {
   "codemirror_mode": {
    "name": "ipython",
    "version": 3
   },
   "file_extension": ".py",
   "mimetype": "text/x-python",
   "name": "python",
   "nbconvert_exporter": "python",
   "pygments_lexer": "ipython3",
   "version": "3.6.4"
  }
 },
 "nbformat": 4,
 "nbformat_minor": 2
}
