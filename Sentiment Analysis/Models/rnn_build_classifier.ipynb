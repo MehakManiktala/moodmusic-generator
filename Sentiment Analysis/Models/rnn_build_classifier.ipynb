{
 "cells": [
  {
   "cell_type": "code",
   "execution_count": 15,
   "metadata": {},
   "outputs": [],
   "source": [
    "import numpy as np\n",
    "import pandas as pd\n",
    "from numpy import array\n",
    "from numpy import argmax\n",
    "import sys\n",
    "#!{sys.executable} -m  pip install --upgrade tensorflow\n",
    "from keras.utils import to_categorical\n",
    "from keras.models import Model\n",
    "from keras.layers import Dense, Input, Dropout, LSTM, Activation, GRU, Bidirectional, MaxPooling1D, Conv1D, Flatten\n",
    "from keras.layers.embeddings import Embedding\n",
    "from keras.preprocessing import sequence\n",
    "from keras.initializers import glorot_uniform, he_uniform, zeros\n",
    "from keras.optimizers import SGD, Adam, Adadelta\n",
    "from keras import regularizers\n",
    "from keras.layers.normalization import BatchNormalization\n",
    "from keras import metrics\n",
    "from sklearn.externals import joblib"
   ]
  },
  {
   "cell_type": "code",
   "execution_count": 16,
   "metadata": {},
   "outputs": [],
   "source": [
    "def import_textFile(filePath):\n",
    "    ds_text = []\n",
    "    with open(filePath,'rb') as f:\n",
    "        for idx,ln in enumerate(f):\n",
    "            decoded=False\n",
    "            line=''\n",
    "            for cp in ('cp1252', 'cp850','utf-8','utf8'):\n",
    "                try:\n",
    "                    line = ln.decode(cp)\n",
    "                    decoded=True\n",
    "                    break\n",
    "                except UnicodeDecodeError:\n",
    "                    pass\n",
    "            if decoded:\n",
    "                ds_text.insert(idx, line.rstrip())\n",
    "    return ds_text"
   ]
  },
  {
   "cell_type": "code",
   "execution_count": 36,
   "metadata": {},
   "outputs": [],
   "source": [
    "emo=5"
   ]
  },
  {
   "cell_type": "code",
   "execution_count": 38,
   "metadata": {},
   "outputs": [],
   "source": [
    "if emo == 2: \n",
    "    dataset_path = '../Data/Datasets/Binary Classification/'\n",
    "else:\n",
    "    dataset_path = '../Data/Datasets/Multiclass Classification/'\n",
    "    \n",
    "train_ds = pd.read_csv(dataset_path+'train.csv', sep=\",\", header=None,index_col = False)\n",
    "test_ds = pd.read_csv(dataset_path+'test.csv', sep=\",\", header=None,index_col = False)\n",
    "\n",
    "x_train = train_ds[0]\n",
    "y_train = train_ds[1]\n",
    "\n",
    "x_test = test_ds[0]\n",
    "y_test = test_ds[1]"
   ]
  },
  {
   "cell_type": "code",
   "execution_count": 39,
   "metadata": {},
   "outputs": [
    {
     "name": "stdout",
     "output_type": "stream",
     "text": [
      "23\n"
     ]
    }
   ],
   "source": [
    "maxLen = len(max(x_train, key=len).split())\n",
    "print(maxLen)"
   ]
  },
  {
   "cell_type": "code",
   "execution_count": 40,
   "metadata": {},
   "outputs": [],
   "source": [
    "def get_one_hot(y):\n",
    "    one_hot_temp_array = array(y)\n",
    "    one_hot_array = to_categorical(one_hot_temp_array)\n",
    "    return one_hot_array\n",
    "# invert encoding\n",
    "#inverted = argmax(encoded[0])"
   ]
  },
  {
   "cell_type": "code",
   "execution_count": 41,
   "metadata": {},
   "outputs": [],
   "source": [
    "#load glove diembedding_dict = dict()\n",
    "embedding_dict = joblib.load('../Data/rnn_embedding_dict.pkl')\n",
    "glove_words = joblib.load('../Data/rnn_glove_words.pkl')\n",
    "number_to_word = glove_words\n",
    "word_to_number = dict((word,idx) for idx,word in enumerate(glove_words))"
   ]
  },
  {
   "cell_type": "code",
   "execution_count": 42,
   "metadata": {},
   "outputs": [],
   "source": [
    "def get_indices(input_x, word_to_number, max_len):\n",
    "    m = input_x.shape[0]\n",
    "    x_indices = np.zeros((m,max_len))\n",
    "\n",
    "    for i in range(m):\n",
    "        word_list =input_x.iloc[i][0].lower().split()\n",
    "        for idx,word in enumerate(word_list):\n",
    "            if (idx ==32):\n",
    "                continue\n",
    "            x_indices[i, idx] = word_to_number[word]\n",
    "    return x_indices"
   ]
  },
  {
   "cell_type": "code",
   "execution_count": 43,
   "metadata": {},
   "outputs": [],
   "source": [
    "def get_embedding_layer(embedding_dict, word_to_number):\n",
    "    \n",
    "    emb_shape = embedding_dict[\"cucumber\"].shape[0]\n",
    "    total_words = len(word_to_number) + 1\n",
    "    \n",
    "    emb_matrix = np.zeros((total_words,emb_shape))\n",
    "    \n",
    "    for word,idx in word_to_number.items():\n",
    "        emb_matrix[idx, :] = embedding_dict[word]\n",
    "\n",
    "    embedding_layer = Embedding(total_words, emb_shape, trainable = True)\n",
    "    embedding_layer.build((None,))\n",
    "    embedding_layer.set_weights([emb_matrix])\n",
    "    \n",
    "    return embedding_layer"
   ]
  },
  {
   "cell_type": "code",
   "execution_count": 44,
   "metadata": {},
   "outputs": [],
   "source": [
    "def senti_model(input_shape,embedding_dict, word_to_number):\n",
    "    #np.random.seed(1)\n",
    "    sentence_indices = Input(shape = input_shape, dtype = np.int32)\n",
    "    embedding_layer = get_embedding_layer(embedding_dict, word_to_number)\n",
    "    \n",
    "    embeddings = embedding_layer(sentence_indices)   \n",
    "    print(embeddings)\n",
    "    X = Bidirectional(GRU(64,return_sequences=True))(embeddings)\n",
    "    X = Dense(16, activation='elu')(X)\n",
    "    X = Bidirectional(GRU(64,return_sequences=False))(X)\n",
    "    X = Dense(64, activation='elu')(X)\n",
    "    X = Dense(emo, activation='softmax', name='fc')(X)\n",
    "\n",
    "\n",
    "\n",
    "    #X = Activation('softmax')(X)\n",
    "    \n",
    "    model = Model(inputs = sentence_indices, outputs = X, name='sentiment')\n",
    "    \n",
    "    return model"
   ]
  },
  {
   "cell_type": "code",
   "execution_count": 45,
   "metadata": {
    "scrolled": true
   },
   "outputs": [
    {
     "name": "stdout",
     "output_type": "stream",
     "text": [
      "Tensor(\"embedding_4/embedding_lookup/Identity:0\", shape=(?, 23, 50), dtype=float32)\n",
      "_________________________________________________________________\n",
      "Layer (type)                 Output Shape              Param #   \n",
      "=================================================================\n",
      "input_4 (InputLayer)         (None, 23)                0         \n",
      "_________________________________________________________________\n",
      "embedding_4 (Embedding)      (None, 23, 50)            20000000  \n",
      "_________________________________________________________________\n",
      "bidirectional_7 (Bidirection (None, 23, 128)           44160     \n",
      "_________________________________________________________________\n",
      "dense_3 (Dense)              (None, 23, 16)            2064      \n",
      "_________________________________________________________________\n",
      "bidirectional_8 (Bidirection (None, 128)               31104     \n",
      "_________________________________________________________________\n",
      "dense_4 (Dense)              (None, 64)                8256      \n",
      "_________________________________________________________________\n",
      "fc (Dense)                   (None, 5)                 325       \n",
      "=================================================================\n",
      "Total params: 20,085,909\n",
      "Trainable params: 20,085,909\n",
      "Non-trainable params: 0\n",
      "_________________________________________________________________\n"
     ]
    }
   ],
   "source": [
    "model = senti_model((maxLen,), embedding_dict, word_to_number)\n",
    "model.summary()"
   ]
  },
  {
   "cell_type": "code",
   "execution_count": 46,
   "metadata": {},
   "outputs": [],
   "source": [
    "sgd = SGD(lr=0.001, decay=1e-6, momentum=0.9, nesterov=True)\n",
    "adam = Adam(lr=0.0001)\n",
    "adadelta = Adadelta(lr=1.00, rho=0.95, epsilon=None, decay=0.0)\n",
    "model.compile(loss='categorical_crossentropy', optimizer=adadelta, metrics=[metrics.categorical_accuracy])"
   ]
  },
  {
   "cell_type": "code",
   "execution_count": 47,
   "metadata": {
    "scrolled": true
   },
   "outputs": [
    {
     "name": "stdout",
     "output_type": "stream",
     "text": [
      "(2809, 5)\n"
     ]
    }
   ],
   "source": [
    "x_train_indices = get_indices(x_train, word_to_number, maxLen)\n",
    "y_train_oh = get_one_hot(y_train)\n",
    "print(y_train_oh.shape)"
   ]
  },
  {
   "cell_type": "code",
   "execution_count": 49,
   "metadata": {
    "scrolled": true
   },
   "outputs": [
    {
     "name": "stdout",
     "output_type": "stream",
     "text": [
      "Epoch 1/50\n",
      "2809/2809 [==============================] - 20s 7ms/step - loss: 1.5204 - categorical_accuracy: 0.2905\n",
      "Epoch 2/50\n",
      "2809/2809 [==============================] - 20s 7ms/step - loss: 1.5183 - categorical_accuracy: 0.2976\n",
      "Epoch 3/50\n",
      "2809/2809 [==============================] - 20s 7ms/step - loss: 1.5160 - categorical_accuracy: 0.2898\n",
      "Epoch 4/50\n",
      "2809/2809 [==============================] - 20s 7ms/step - loss: 1.5105 - categorical_accuracy: 0.3040\n",
      "Epoch 5/50\n",
      "2809/2809 [==============================] - 20s 7ms/step - loss: 1.5093 - categorical_accuracy: 0.3015\n",
      "Epoch 6/50\n",
      "2809/2809 [==============================] - 21s 8ms/step - loss: 1.5103 - categorical_accuracy: 0.3054\n",
      "Epoch 7/50\n",
      "2809/2809 [==============================] - 20s 7ms/step - loss: 1.5095 - categorical_accuracy: 0.3033\n",
      "Epoch 8/50\n",
      "2809/2809 [==============================] - 20s 7ms/step - loss: 1.5059 - categorical_accuracy: 0.3133\n",
      "Epoch 9/50\n",
      "2809/2809 [==============================] - 21s 7ms/step - loss: 1.5046 - categorical_accuracy: 0.3094\n",
      "Epoch 10/50\n",
      "2809/2809 [==============================] - 21s 7ms/step - loss: 1.5043 - categorical_accuracy: 0.3111\n",
      "Epoch 11/50\n",
      "2809/2809 [==============================] - 21s 8ms/step - loss: 1.5006 - categorical_accuracy: 0.3176\n",
      "Epoch 12/50\n",
      "2809/2809 [==============================] - 21s 7ms/step - loss: 1.5032 - categorical_accuracy: 0.3094\n",
      "Epoch 13/50\n",
      "2809/2809 [==============================] - 21s 8ms/step - loss: 1.5021 - categorical_accuracy: 0.3183\n",
      "Epoch 14/50\n",
      "2809/2809 [==============================] - 22s 8ms/step - loss: 1.5007 - categorical_accuracy: 0.3147\n",
      "Epoch 15/50\n",
      "2809/2809 [==============================] - 24s 8ms/step - loss: 1.5002 - categorical_accuracy: 0.3154\n",
      "Epoch 16/50\n",
      "2809/2809 [==============================] - 22s 8ms/step - loss: 1.4993 - categorical_accuracy: 0.3151\n",
      "Epoch 17/50\n",
      "2809/2809 [==============================] - 25s 9ms/step - loss: 1.4991 - categorical_accuracy: 0.3119\n",
      "Epoch 18/50\n",
      "2809/2809 [==============================] - 23s 8ms/step - loss: 1.5000 - categorical_accuracy: 0.3101\n",
      "Epoch 19/50\n",
      "2809/2809 [==============================] - 23s 8ms/step - loss: 1.4997 - categorical_accuracy: 0.3168\n",
      "Epoch 20/50\n",
      "2809/2809 [==============================] - 24s 9ms/step - loss: 1.4983 - categorical_accuracy: 0.3147\n",
      "Epoch 21/50\n",
      "2809/2809 [==============================] - 23s 8ms/step - loss: 1.4967 - categorical_accuracy: 0.3172\n",
      "Epoch 22/50\n",
      "2809/2809 [==============================] - 24s 8ms/step - loss: 1.5001 - categorical_accuracy: 0.3204\n",
      "Epoch 23/50\n",
      "2809/2809 [==============================] - 24s 9ms/step - loss: 1.4993 - categorical_accuracy: 0.3183\n",
      "Epoch 24/50\n",
      "2809/2809 [==============================] - 24s 9ms/step - loss: 1.5000 - categorical_accuracy: 0.3168\n",
      "Epoch 25/50\n",
      "2809/2809 [==============================] - 26s 9ms/step - loss: 1.4983 - categorical_accuracy: 0.3158\n",
      "Epoch 26/50\n",
      "2809/2809 [==============================] - 26s 9ms/step - loss: 1.4980 - categorical_accuracy: 0.3200\n",
      "Epoch 27/50\n",
      "2809/2809 [==============================] - 26s 9ms/step - loss: 1.4988 - categorical_accuracy: 0.3154\n",
      "Epoch 28/50\n",
      "2809/2809 [==============================] - 26s 9ms/step - loss: 1.4973 - categorical_accuracy: 0.3200\n",
      "Epoch 29/50\n",
      "2809/2809 [==============================] - 27s 10ms/step - loss: 1.4966 - categorical_accuracy: 0.3176\n",
      "Epoch 30/50\n",
      "2809/2809 [==============================] - 28s 10ms/step - loss: 1.4986 - categorical_accuracy: 0.3179\n",
      "Epoch 31/50\n",
      "2809/2809 [==============================] - 27s 10ms/step - loss: 1.4971 - categorical_accuracy: 0.3179\n",
      "Epoch 32/50\n",
      "2809/2809 [==============================] - 27s 10ms/step - loss: 1.4968 - categorical_accuracy: 0.3143\n",
      "Epoch 33/50\n",
      "2809/2809 [==============================] - 29s 10ms/step - loss: 1.4970 - categorical_accuracy: 0.3172\n",
      "Epoch 34/50\n",
      "2809/2809 [==============================] - 35s 12ms/step - loss: 1.4979 - categorical_accuracy: 0.3186\n",
      "Epoch 35/50\n",
      "2809/2809 [==============================] - 35s 12ms/step - loss: 1.4966 - categorical_accuracy: 0.3211\n",
      "Epoch 36/50\n",
      "2809/2809 [==============================] - 36s 13ms/step - loss: 1.4965 - categorical_accuracy: 0.3186\n",
      "Epoch 37/50\n",
      "2809/2809 [==============================] - 31s 11ms/step - loss: 1.4966 - categorical_accuracy: 0.3190\n",
      "Epoch 38/50\n",
      "2809/2809 [==============================] - 29s 10ms/step - loss: 1.4963 - categorical_accuracy: 0.3151\n",
      "Epoch 39/50\n",
      "2809/2809 [==============================] - 29s 10ms/step - loss: 1.4966 - categorical_accuracy: 0.3204\n",
      "Epoch 40/50\n",
      "2809/2809 [==============================] - 33s 12ms/step - loss: 1.4958 - categorical_accuracy: 0.3208\n",
      "Epoch 41/50\n",
      "2809/2809 [==============================] - 29s 10ms/step - loss: 1.4955 - categorical_accuracy: 0.3115\n",
      "Epoch 42/50\n",
      "2809/2809 [==============================] - 29s 10ms/step - loss: 1.4962 - categorical_accuracy: 0.3161\n",
      "Epoch 43/50\n",
      "2809/2809 [==============================] - 27s 10ms/step - loss: 1.4955 - categorical_accuracy: 0.3190\n",
      "Epoch 44/50\n",
      "2809/2809 [==============================] - 26s 9ms/step - loss: 1.4961 - categorical_accuracy: 0.3179\n",
      "Epoch 45/50\n",
      "2809/2809 [==============================] - 27s 10ms/step - loss: 1.4963 - categorical_accuracy: 0.3190\n",
      "Epoch 46/50\n",
      "2809/2809 [==============================] - 28s 10ms/step - loss: 1.4954 - categorical_accuracy: 0.3204\n",
      "Epoch 47/50\n",
      "2809/2809 [==============================] - 28s 10ms/step - loss: 1.4955 - categorical_accuracy: 0.3197\n",
      "Epoch 48/50\n",
      "2809/2809 [==============================] - 26s 9ms/step - loss: 1.4949 - categorical_accuracy: 0.3200\n",
      "Epoch 49/50\n",
      "2809/2809 [==============================] - 25s 9ms/step - loss: 1.4947 - categorical_accuracy: 0.3225\n",
      "Epoch 50/50\n",
      "2809/2809 [==============================] - 25s 9ms/step - loss: 1.4948 - categorical_accuracy: 0.3186\n"
     ]
    },
    {
     "data": {
      "text/plain": [
       "<keras.callbacks.History at 0x128e43905f8>"
      ]
     },
     "execution_count": 49,
     "metadata": {},
     "output_type": "execute_result"
    }
   ],
   "source": [
    "model.fit(x_train_indices, y_train_oh, epochs = 50, batch_size = 64, shuffle=True)"
   ]
  },
  {
   "cell_type": "code",
   "execution_count": null,
   "metadata": {},
   "outputs": [],
   "source": [
    "x_test_indices = get_indices(x_test, word_to_number, max_len = maxLen)\n",
    "y_test_oh = get_one_hot(y_test)\n",
    "loss, acc = model.evaluate(x_test_indices, y_test_oh)\n",
    "print()\n",
    "print(\"Test accuracy = \", acc)"
   ]
  },
  {
   "cell_type": "code",
   "execution_count": null,
   "metadata": {},
   "outputs": [],
   "source": [
    "def get_emotion(value):\n",
    "    unique_labels = [\"Happy\",\"Surprise\",\"Anger\",\"Fear\",\"Sadness\"]\n",
    "    return unique_labels[value]"
   ]
  },
  {
   "cell_type": "code",
   "execution_count": null,
   "metadata": {},
   "outputs": [],
   "source": [
    "C = 4\n",
    "y_test_array = y_test.values\n",
    "y_test_oh = np.eye(C)[y_test_array.reshape(-1)]\n",
    "X_test_indices = get_indices(x_test, word_to_number, maxLen)\n",
    "pred = model.predict(x_test_indices)\n",
    "for i in range(len(x_test)):\n",
    "    x = x_test_indices\n",
    "    num = np.argmax(pred[i])\n",
    "    if(num != y_test_array[i]):\n",
    "        print('Expected '+ get_emotion(y_test_array[i]) + ' prediction: '+ get_emotion(num) + ' ' + x_test[i] )"
   ]
  },
  {
   "cell_type": "code",
   "execution_count": null,
   "metadata": {},
   "outputs": [],
   "source": []
  },
  {
   "cell_type": "code",
   "execution_count": null,
   "metadata": {},
   "outputs": [],
   "source": []
  },
  {
   "cell_type": "code",
   "execution_count": null,
   "metadata": {},
   "outputs": [],
   "source": []
  }
 ],
 "metadata": {
  "kernelspec": {
   "display_name": "Python 3",
   "language": "python",
   "name": "python3"
  },
  "language_info": {
   "codemirror_mode": {
    "name": "ipython",
    "version": 3
   },
   "file_extension": ".py",
   "mimetype": "text/x-python",
   "name": "python",
   "nbconvert_exporter": "python",
   "pygments_lexer": "ipython3",
   "version": "3.6.4"
  }
 },
 "nbformat": 4,
 "nbformat_minor": 2
}
