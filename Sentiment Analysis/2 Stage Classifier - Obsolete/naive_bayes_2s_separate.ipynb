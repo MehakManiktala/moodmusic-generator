{
 "cells": [
  {
   "cell_type": "code",
   "execution_count": 73,
   "metadata": {},
   "outputs": [],
   "source": [
    "from sklearn.naive_bayes import GaussianNB\n",
    "from sklearn import datasets\n",
    "import nltk\n",
    "from nltk.tokenize import sent_tokenize, word_tokenize\n",
    "import pandas as pd"
   ]
  },
  {
   "cell_type": "code",
   "execution_count": 109,
   "metadata": {},
   "outputs": [],
   "source": [
    "s1_train = pd.read_csv('Dataset/s1_train.csv', sep=\",\", header=None,index_col = False)\n",
    "s1_test = pd.read_csv('Dataset/s1_test.csv', sep=\",\", header=None,index_col = False)\n",
    "s2_train = pd.read_csv('Dataset/s2_train.csv', sep=\",\", header=None,index_col = False)\n",
    "s2_test = pd.read_csv('Dataset/s2_test.csv', sep=\",\", header=None,index_col = False)"
   ]
  },
  {
   "cell_type": "code",
   "execution_count": 86,
   "metadata": {},
   "outputs": [],
   "source": [
    "#get the list of words\n",
    "whole_ds = s1_train.append(s1_test,ignore_index=True )\n",
    "whole_ds['tokenized_sents'] = whole_ds.apply(lambda row: nltk.word_tokenize(row[0]), axis=1)\n",
    "print(whole_ds.shape)\n",
    "\n",
    "all_words = []\n",
    "\n",
    "for line in whole_ds['tokenized_sents']:\n",
    "    for w in line:\n",
    "        all_words.append(w.lower())\n",
    "all_words = nltk.FreqDist(all_words)\n",
    "\n",
    "word_features = list(all_words.keys())[:3000]"
   ]
  },
  {
   "cell_type": "code",
   "execution_count": 155,
   "metadata": {},
   "outputs": [],
   "source": [
    "#convert sentences to bag of words feature vector\n",
    "def convert_features(sentence):\n",
    "    return {i:(i in sentence) for i in word_features}"
   ]
  },
  {
   "cell_type": "code",
   "execution_count": 156,
   "metadata": {},
   "outputs": [
    {
     "name": "stdout",
     "output_type": "stream",
     "text": [
      "0.9154929577464789\n"
     ]
    }
   ],
   "source": [
    "#stage 1 classification\n",
    "s1_train['tokenized_sents'] = s1_train.apply(lambda row: nltk.word_tokenize(row[0]), axis=1)\n",
    "s1_featured_train = [(convert_features(row['tokenized_sents']), row[1]) for index, row in s1_train.iterrows()]\n",
    "s1_test['tokenized_sents'] = s1_test.apply(lambda row: nltk.word_tokenize(row[0]), axis=1)\n",
    "s1_featured_test = [(convert_features(row['tokenized_sents']), row[1]) for index, row in s1_test.iterrows()]\n",
    "s1_featured_test_noLabels =  [(find_features(row['tokenized_sents'])) for index, row in s1_test.iterrows()]\n",
    "\n",
    "classifier_s1 = nltk.NaiveBayesClassifier.train(s1_featured_train)\n",
    "print(nltk.classify.accuracy(classifier_s1, s1_featured_test))"
   ]
  },
  {
   "cell_type": "code",
   "execution_count": 53,
   "metadata": {},
   "outputs": [
    {
     "data": {
      "text/plain": [
       "'gnb = GaussianNB()\\ny_pred = gnb.fit(featuresets[:200][0],featuresets[:200][1]).predict(featuresets[201:][0])\\n'"
      ]
     },
     "execution_count": 53,
     "metadata": {},
     "output_type": "execute_result"
    }
   ],
   "source": [
    "'''gnb = GaussianNB()\n",
    "y_pred = gnb.fit(featuresets[:200][0],featuresets[:200][1]).predict(featuresets[201:][0])\n",
    "'''"
   ]
  },
  {
   "cell_type": "code",
   "execution_count": null,
   "metadata": {},
   "outputs": [],
   "source": []
  },
  {
   "cell_type": "code",
   "execution_count": 157,
   "metadata": {},
   "outputs": [
    {
     "name": "stdout",
     "output_type": "stream",
     "text": [
      "0.6911764705882353\n"
     ]
    }
   ],
   "source": [
    "#stage 2\n",
    "s2_train['tokenized_sents'] = s2_train.apply(lambda row: nltk.word_tokenize(row[0]), axis=1)\n",
    "s2_featured_train = [(convert_features(row['tokenized_sents']), row[1]) for index, row in s2_train.iterrows()]\n",
    "s2_test['tokenized_sents'] = s2_test.apply(lambda row: nltk.word_tokenize(row[0]), axis=1)\n",
    "s2_featured_test = [(convert_features(row['tokenized_sents']), row[1]) for index, row in s2_test.iterrows()]\n",
    "\n",
    "classifier_s2 = nltk.NaiveBayesClassifier.train(s2_featured_train)\n",
    "print(nltk.classify.accuracy(classifier_s2, s2_featured_test))"
   ]
  },
  {
   "cell_type": "code",
   "execution_count": null,
   "metadata": {},
   "outputs": [],
   "source": []
  }
 ],
 "metadata": {
  "kernelspec": {
   "display_name": "Python 3",
   "language": "python",
   "name": "python3"
  },
  "language_info": {
   "codemirror_mode": {
    "name": "ipython",
    "version": 3
   },
   "file_extension": ".py",
   "mimetype": "text/x-python",
   "name": "python",
   "nbconvert_exporter": "python",
   "pygments_lexer": "ipython3",
   "version": "3.6.4"
  }
 },
 "nbformat": 4,
 "nbformat_minor": 2
}
