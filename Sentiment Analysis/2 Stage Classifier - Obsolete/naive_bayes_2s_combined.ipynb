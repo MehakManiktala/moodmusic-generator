{
 "cells": [
  {
   "cell_type": "code",
   "execution_count": 77,
   "metadata": {},
   "outputs": [],
   "source": [
    "from sklearn.naive_bayes import GaussianNB\n",
    "from sklearn import datasets\n",
    "import nltk\n",
    "from nltk.tokenize import sent_tokenize, word_tokenize\n",
    "import pandas as pd\n",
    "import numpy as np\n",
    "from nltk.metrics import ConfusionMatrix"
   ]
  },
  {
   "cell_type": "code",
   "execution_count": 69,
   "metadata": {},
   "outputs": [],
   "source": [
    "s1_train = pd.read_csv('Dataset/s1_train.csv', sep=\",\", header=None,index_col = False)\n",
    "s1_test = pd.read_csv('Dataset/s1_test.csv', sep=\",\", header=None,index_col = False)\n",
    "s2_train = pd.read_csv('Dataset/s2_train.csv', sep=\",\", header=None,index_col = False)\n",
    "s2_test = pd.read_csv('Dataset/s2_test.csv', sep=\",\", header=None,index_col = False)"
   ]
  },
  {
   "cell_type": "code",
   "execution_count": 12,
   "metadata": {},
   "outputs": [
    {
     "name": "stdout",
     "output_type": "stream",
     "text": [
      "(285, 3)\n"
     ]
    }
   ],
   "source": [
    "#get the list of words\n",
    "whole_ds = s1_train.append(s1_test,ignore_index=True )\n",
    "whole_ds['tokenized_sents'] = whole_ds.apply(lambda row: nltk.word_tokenize(row[0]), axis=1)\n",
    "print(whole_ds.shape)\n",
    "\n",
    "all_words = []\n",
    "\n",
    "for line in whole_ds['tokenized_sents']:\n",
    "    for w in line:\n",
    "        all_words.append(w.lower())\n",
    "all_words = nltk.FreqDist(all_words)\n",
    "\n",
    "word_features = list(all_words.keys())[:3000]"
   ]
  },
  {
   "cell_type": "code",
   "execution_count": 29,
   "metadata": {},
   "outputs": [],
   "source": [
    "#convert sentences to bag of words feature vector\n",
    "def convert_features(sentence):\n",
    "    return {i:(i in sentence) for i in word_features}"
   ]
  },
  {
   "cell_type": "code",
   "execution_count": 70,
   "metadata": {},
   "outputs": [
    {
     "name": "stdout",
     "output_type": "stream",
     "text": [
      "0.9154929577464789\n"
     ]
    }
   ],
   "source": [
    "#stage 1 classification\n",
    "s1_train['tokenized_sents'] = s1_train.apply(lambda row: nltk.word_tokenize(row[0]), axis=1)\n",
    "s1_featured_train = [(convert_features(row['tokenized_sents']), row[1]) for index, row in s1_train.iterrows()]\n",
    "s1_test['tokenized_sents'] = s1_test.apply(lambda row: nltk.word_tokenize(row[0]), axis=1)\n",
    "s1_featured_test = [(convert_features(row['tokenized_sents']), row[1]) for index, row in s1_test.iterrows()]\n",
    "\n",
    "classifier_s1= nltk.NaiveBayesClassifier.train(s1_featured_train)\n",
    "print(nltk.classify.accuracy(classifier_s1, s1_featured_test))"
   ]
  },
  {
   "cell_type": "code",
   "execution_count": 33,
   "metadata": {},
   "outputs": [
    {
     "data": {
      "text/plain": [
       "'gnb = GaussianNB()\\ny_pred = gnb.fit(featuresets[:200][0],featuresets[:200][1]).predict(featuresets[201:][0])\\n'"
      ]
     },
     "execution_count": 33,
     "metadata": {},
     "output_type": "execute_result"
    }
   ],
   "source": [
    "'''gnb = GaussianNB()\n",
    "y_pred = gnb.fit(featuresets[:200][0],featuresets[:200][1]).predict(featuresets[201:][0])\n",
    "'''"
   ]
  },
  {
   "cell_type": "code",
   "execution_count": 74,
   "metadata": {},
   "outputs": [
    {
     "name": "stdout",
     "output_type": "stream",
     "text": [
      "0.6698113207547169\n"
     ]
    }
   ],
   "source": [
    "#stage 2\n",
    "s2_train['tokenized_sents'] = s2_train.apply(lambda row: nltk.word_tokenize(row[0]), axis=1)\n",
    "s2_featured_train = [(convert_features(row['tokenized_sents']), row[1]) for index, row in s2_train.iterrows()]\n",
    "s2_test['tokenized_sents'] = s2_test.apply(lambda row: nltk.word_tokenize(row[0]), axis=1)\n",
    "s2_featured_test = [(convert_features(row['tokenized_sents']), row[1]) for index, row in s2_test.iterrows()]\n",
    "\n",
    "classifier_s2 = nltk.NaiveBayesClassifier.train(s2_featured_train)\n",
    "print(nltk.classify.accuracy(classifier_s2, s2_featured_test))"
   ]
  },
  {
   "cell_type": "code",
   "execution_count": 75,
   "metadata": {},
   "outputs": [],
   "source": [
    "test = pd.read_csv('Dataset/test.csv', sep=\",\", header=None,index_col = False)\n",
    "test['tokenized_sents'] = test.apply(lambda row: nltk.word_tokenize(row[0]), axis=1)\n",
    "\n",
    "pred = np.zeros((test.shape[0],1))\n",
    "\n",
    "for index, row in test.iterrows():\n",
    "    featured_item = (convert_features(row['tokenized_sents']))\n",
    "    s1_pred = classifier_s1.classify(featured_item)\n",
    "    if s1_pred == 0:\n",
    "        pred[index] = 0\n",
    "    else:\n",
    "        s2_pred = classifier_s2.classify(featured_item)\n",
    "        pred[index] = s2_pred\n",
    "        \n",
    "        \n",
    "test['prediction'] = pred"
   ]
  },
  {
   "cell_type": "code",
   "execution_count": 78,
   "metadata": {},
   "outputs": [
    {
     "name": "stdout",
     "output_type": "stream",
     "text": [
      "[[35.  0.  0.  2.]\n",
      " [ 3. 20.  3.  3.]\n",
      " [ 3.  8. 28.  6.]\n",
      " [ 7.  4.  4. 17.]]\n",
      "0.6993006993006993\n"
     ]
    }
   ],
   "source": [
    "confusion_matrix = np.zeros((4,4))\n",
    "for index, row in test.iterrows():\n",
    "    ind_i = row[1]\n",
    "    ind_j = int(row['prediction'])\n",
    "    confusion_matrix[ind_i][ind_j] = confusion_matrix[ind_i][ind_j] + 1\n",
    "        \n",
    "print(confusion_matrix)\n",
    "\n",
    "accuracy = (confusion_matrix[1,1]+confusion_matrix[2,2]+confusion_matrix[0,0]+confusion_matrix[3,3])/test.shape[0]\n",
    "print(accuracy)"
   ]
  },
  {
   "cell_type": "code",
   "execution_count": null,
   "metadata": {},
   "outputs": [],
   "source": []
  }
 ],
 "metadata": {
  "kernelspec": {
   "display_name": "Python 3",
   "language": "python",
   "name": "python3"
  },
  "language_info": {
   "codemirror_mode": {
    "name": "ipython",
    "version": 3
   },
   "file_extension": ".py",
   "mimetype": "text/x-python",
   "name": "python",
   "nbconvert_exporter": "python",
   "pygments_lexer": "ipython3",
   "version": "3.6.4"
  }
 },
 "nbformat": 4,
 "nbformat_minor": 2
}
