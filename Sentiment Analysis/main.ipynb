{
 "cells": [
  {
   "cell_type": "code",
   "execution_count": 10,
   "metadata": {},
   "outputs": [],
   "source": [
    "from nltk.tokenize import sent_tokenize, word_tokenize\n",
    "import pandas as pd\n",
    "import numpy as np\n",
    "from sklearn.externals import joblib\n",
    "import nltk\n",
    "import nbimporter\n",
    "from get_classifiers import nb_classify, svm_classify, process_data, ens_classify\n",
    "import threading\n",
    "import random\n",
    "\n",
    "\n",
    "index = random.randint(1,2000000)\n",
    "SVM = 1\n",
    "NB = 2\n",
    "ENS = 3\n",
    "BINARY = 2\n",
    "MULTICLASS = 5\n",
    "\n",
    "model = NB\n",
    "no_of_classes = MULTICLASS\n",
    "\n",
    "def get_emotion(value, no_of_classes):\n",
    "    if no_of_classes == 2:\n",
    "        unique_labels = [\"Positive\",\"Negative\"]\n",
    "    else:\n",
    "        unique_labels = [\"Happy\",\"Surprised\",\"Angry\",\"Fear\",\"Sad\"]\n",
    "    return unique_labels[value]"
   ]
  },
  {
   "cell_type": "code",
   "execution_count": 49,
   "metadata": {
    "collapsed": true
   },
   "outputs": [],
   "source": [
    "#https://gist.github.com/maartenbreddels/3378e8257bf0ee18cfcbdacce6e6a77e\n",
    "import threading\n",
    "def work():\n",
    "    #https://stackoverflow.com/questions/7372592/python-how-can-i-execute-a-jar-file-through-a-python-script\n",
    "    import subprocess\n",
    "    subprocess.call(['java', '-jar', '../runnable.jar', sentenceDir])\n",
    "thread = threading.Thread(target=work)\n",
    "thread.start()"
   ]
  },
  {
   "cell_type": "code",
   "execution_count": 52,
   "metadata": {},
   "outputs": [
    {
     "name": "stdout",
     "output_type": "stream",
     "text": [
      "['They were the greatest. #Fear', \"Always at eachother's backs, pushing eachother further. #Happy\", 'Then one died and man...it was a disappointment. #Angry']\n"
     ]
    }
   ],
   "source": [
    "text3 = \"This is a test. This is only a test. Do not get up! Do not go outside! Stay at home. Stay in your cozy chairs and keep on watching. Again, this is only a test.\"\n",
    "text2 = \"As the father of two teenagers, I found this book invaluable. I'm sure other parents here can empathize when I say I shudder at the thought of the increasing presence of huge ships in the lives my children. \"\n",
    "text1 = \"They were the greatest. Always at eachother's backs, pushing eachother further. Then one died and man...it was a disappointment.\"\n",
    "input_text = text1\n",
    "\n",
    "input_sent = sent_tokenize(input_text)\n",
    "input_sentences = pd.DataFrame(data=input_sent)\n",
    "input_sentences = process_data(input_sentences[0])\n",
    "\n",
    "if model == NB:\n",
    "    pred = nb_classify(input_sentences, no_of_classes)\n",
    "elif model == SVM:\n",
    "    pred = svm_classify(input_sentences, no_of_classes)\n",
    "else:\n",
    "    pred = ens_classify(input_sentences, no_of_classes)\n",
    "\n",
    "output = []\n",
    "for i, sentence in enumerate(input_sent):\n",
    "    output_line = sentence + \" #\"+get_emotion(int(pred[i]),no_of_classes)\n",
    "    output.append(output_line)\n",
    "\n",
    "print(output)\n",
    "\n",
    "import os\n",
    "sentenceDir = \"../inputsentences\"\n",
    "\n",
    "\n"
   ]
  },
  {
   "cell_type": "code",
   "execution_count": 53,
   "metadata": {
    "collapsed": true
   },
   "outputs": [],
   "source": [
    "import os\n",
    "filename = os.path.join(sentenceDir, \"sentence\"+str(index)+\".moodsentence\")\n",
    "index += 1\n",
    "f= open(filename,'w+')\n",
    "for sentence in output:\n",
    "    f.write(sentence+\"\\n\")\n",
    "f.close()"
   ]
  },
  {
   "cell_type": "code",
   "execution_count": null,
   "metadata": {
    "collapsed": true
   },
   "outputs": [],
   "source": []
  },
  {
   "cell_type": "code",
   "execution_count": null,
   "metadata": {
    "collapsed": true
   },
   "outputs": [],
   "source": []
  },
  {
   "cell_type": "code",
   "execution_count": null,
   "metadata": {
    "collapsed": true
   },
   "outputs": [],
   "source": []
  },
  {
   "cell_type": "code",
   "execution_count": null,
   "metadata": {
    "collapsed": true
   },
   "outputs": [],
   "source": []
  }
 ],
 "metadata": {
  "kernelspec": {
   "display_name": "Python 3",
   "language": "python",
   "name": "python3"
  },
  "language_info": {
   "codemirror_mode": {
    "name": "ipython",
    "version": 3
   },
   "file_extension": ".py",
   "mimetype": "text/x-python",
   "name": "python",
   "nbconvert_exporter": "python",
   "pygments_lexer": "ipython3",
   "version": "3.6.3"
  }
 },
 "nbformat": 4,
 "nbformat_minor": 2
}
