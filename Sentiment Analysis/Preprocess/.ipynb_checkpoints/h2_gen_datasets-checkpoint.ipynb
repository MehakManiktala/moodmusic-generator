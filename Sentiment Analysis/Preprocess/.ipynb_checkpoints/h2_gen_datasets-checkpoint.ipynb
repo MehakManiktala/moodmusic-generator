{
 "cells": [
  {
   "cell_type": "code",
   "execution_count": 1,
   "metadata": {},
   "outputs": [],
   "source": [
    "import pandas as pd\n",
    "import numpy as np\n",
    "from sklearn.model_selection import train_test_split\n",
    "from nltk.tokenize import word_tokenize\n",
    "from sklearn.externals import joblib\n",
    "from sklearn.model_selection import StratifiedKFold"
   ]
  },
  {
   "cell_type": "code",
   "execution_count": 2,
   "metadata": {},
   "outputs": [],
   "source": [
    "processed_files = ['../Data/Processed/processed_joy_train.txt','../Data/Processed/processed_surprise_train.txt','../Data/Processed/processed_anger_train.txt','../Data/Processed/processed_fear_train.txt','../Data/Processed/processed_sadness_train.txt']\n",
    "dataset_path = '../Data/Datasets/Binary Classification/'"
   ]
  },
  {
   "cell_type": "code",
   "execution_count": 3,
   "metadata": {},
   "outputs": [
    {
     "name": "stdout",
     "output_type": "stream",
     "text": [
      "(821, 1)\n",
      "(212, 1)\n",
      "(834, 1)\n",
      "(1115, 1)\n",
      "(764, 1)\n",
      "(3746, 2)\n"
     ]
    }
   ],
   "source": [
    "all_labels_dataset = pd.DataFrame()\n",
    "list_df = []\n",
    "for idx, iF in enumerate(processed_files):   \n",
    "    dataset = pd.read_csv(iF, sep=\"\\t\",header=None,index_col = None)\n",
    "    print(dataset.shape)\n",
    "    if idx < 2:\n",
    "        dataset['label'] = np.full((dataset.shape[0], 1), 0)\n",
    "    else:\n",
    "        dataset['label'] = np.full((dataset.shape[0], 1), 1)\n",
    "    list_df.append(dataset)\n",
    "    \n",
    "all_labels_dataset = pd.concat(list_df,ignore_index=True)\n",
    "print(all_labels_dataset.shape)"
   ]
  },
  {
   "cell_type": "code",
   "execution_count": 4,
   "metadata": {},
   "outputs": [
    {
     "name": "stdout",
     "output_type": "stream",
     "text": [
      "(2809, 2)\n",
      "(937, 2)\n"
     ]
    }
   ],
   "source": [
    "#train test sets\n",
    "x_train, x_test, y_train, y_test = train_test_split(all_labels_dataset, all_labels_dataset['label'],\n",
    "                                                    stratify=all_labels_dataset['label'], \n",
    "                                                    test_size=0.25)\n",
    "x_train = pd.DataFrame(data=x_train) \n",
    "x_test = pd.DataFrame(data=x_test) \n",
    "y_train = pd.DataFrame(data=y_train) \n",
    "y_test = pd.DataFrame(data=y_test) \n",
    "\n",
    "x_train.to_csv(dataset_path+\"train.csv\", index=False,header = False)\n",
    "x_test.to_csv(dataset_path+\"test.csv\", index=False,header = False)\n",
    "\n",
    "print(x_train.shape)\n",
    "print(x_test.shape)"
   ]
  },
  {
   "cell_type": "code",
   "execution_count": 5,
   "metadata": {},
   "outputs": [],
   "source": [
    "#k fold sets\n",
    "\n",
    "kf = StratifiedKFold(n_splits=10)\n",
    "kf.get_n_splits(all_labels_dataset,all_labels_dataset['label'])\n",
    "idx = 1\n",
    "\n",
    "for train_index, test_index in kf.split(all_labels_dataset,all_labels_dataset['label']):\n",
    "    cv_train, cv_test = all_labels_dataset.iloc[train_index], all_labels_dataset.iloc[test_index]\n",
    "    \n",
    "    cv_train.to_csv(dataset_path+'cv'+str(idx)+'_train.csv', index=False,header = False)\n",
    "    cv_test.to_csv(dataset_path+'cv'+str(idx)+'_test.csv', index=False,header = False)\n",
    "    idx = idx + 1"
   ]
  },
  {
   "cell_type": "code",
   "execution_count": null,
   "metadata": {},
   "outputs": [],
   "source": []
  },
  {
   "cell_type": "code",
   "execution_count": null,
   "metadata": {},
   "outputs": [],
   "source": []
  }
 ],
 "metadata": {
  "kernelspec": {
   "display_name": "Python 3",
   "language": "python",
   "name": "python3"
  },
  "language_info": {
   "codemirror_mode": {
    "name": "ipython",
    "version": 3
   },
   "file_extension": ".py",
   "mimetype": "text/x-python",
   "name": "python",
   "nbconvert_exporter": "python",
   "pygments_lexer": "ipython3",
   "version": "3.6.4"
  }
 },
 "nbformat": 4,
 "nbformat_minor": 2
}
