{
 "cells": [
  {
   "cell_type": "code",
   "execution_count": 99,
   "metadata": {},
   "outputs": [
    {
     "name": "stdout",
     "output_type": "stream",
     "text": [
      "C:\\Users\\Aaron\\workspace\\moodmusic-generator\\inputsentences\n"
     ]
    }
   ],
   "source": [
    "index = 0\n",
    "import os\n",
    "sentenceDir = os.path.join(os.getcwd(), \"inputsentences\")\n",
    "print(sentenceDir)"
   ]
  },
  {
   "cell_type": "code",
   "execution_count": 100,
   "metadata": {
    "collapsed": true
   },
   "outputs": [],
   "source": [
    "#https://gist.github.com/maartenbreddels/3378e8257bf0ee18cfcbdacce6e6a77e\n",
    "import threading\n",
    "def work():\n",
    "    #https://stackoverflow.com/questions/7372592/python-how-can-i-execute-a-jar-file-through-a-python-script\n",
    "    import subprocess\n",
    "    subprocess.call(['java', '-jar', 'runnable.jar', sentenceDir])\n",
    "thread = threading.Thread(target=work)\n",
    "thread.start()"
   ]
  },
  {
   "cell_type": "code",
   "execution_count": 101,
   "metadata": {
    "collapsed": true
   },
   "outputs": [],
   "source": [
    "input_text = \"If you are working through our online course, you will see that there is a link to the appropriate forum thread for each lesson from the website. If you have a question, be sure to first search to see if it’s already answered, and to see if there is already a relevant thread you can ask it on. Note that when you start creating a new topic, discourse will let you know of similar topics that already exist. If you see something close, please head to that thread instead of creating a new topic, to help other students find answers to their questions. Remember, when you ask or answer a question here, you’re contributing to a knowledge base that the whole community benefits from!\""
   ]
  },
  {
   "cell_type": "code",
   "execution_count": 102,
   "metadata": {
    "collapsed": true
   },
   "outputs": [],
   "source": [
    "import re\n",
    "def split_sentences(st):\n",
    "    sentences = re.split(r'[.?!]\\s*', st)\n",
    "    if sentences[-1]:\n",
    "        return sentences\n",
    "    else:\n",
    "        return sentences[:-1]"
   ]
  },
  {
   "cell_type": "code",
   "execution_count": 103,
   "metadata": {
    "collapsed": true
   },
   "outputs": [],
   "source": [
    "split = split_sentences(input_text)"
   ]
  },
  {
   "cell_type": "code",
   "execution_count": 168,
   "metadata": {
    "collapsed": true
   },
   "outputs": [],
   "source": [
    "moods = [\"Happy\",\"Surprised\",\"Angry\",\"fear\"]#\"Calm\",\"Drowsy\",\"Quiescent\",\"Active\",\"Fear\"]"
   ]
  },
  {
   "cell_type": "code",
   "execution_count": 169,
   "metadata": {
    "collapsed": true
   },
   "outputs": [],
   "source": [
    "import random\n",
    "splitmood = [x+\". #\"+random.choice(moods) for x in split]"
   ]
  },
  {
   "cell_type": "code",
   "execution_count": 170,
   "metadata": {},
   "outputs": [
    {
     "name": "stdout",
     "output_type": "stream",
     "text": [
      "If you are working through our online course, you will see that there is a link to the appropriate forum thread for each lesson from the website. #Angry\n",
      "-----\n",
      "If you have a question, be sure to first search to see if it’s already answered, and to see if there is already a relevant thread you can ask it on. #Happy\n",
      "-----\n",
      "Note that when you start creating a new topic, discourse will let you know of similar topics that already exist. #Surprised\n",
      "-----\n",
      "If you see something close, please head to that thread instead of creating a new topic, to help other students find answers to their questions. #Happy\n",
      "-----\n",
      "Remember, when you ask or answer a question here, you’re contributing to a knowledge base that the whole community benefits from. #Angry\n",
      "-----\n"
     ]
    }
   ],
   "source": [
    "for sm in splitmood:\n",
    "    print(sm)\n",
    "    print(\"-----\")"
   ]
  },
  {
   "cell_type": "code",
   "execution_count": 175,
   "metadata": {},
   "outputs": [
    {
     "name": "stdout",
     "output_type": "stream",
     "text": [
      "If you are working through our online course, you will see that there is a link to the appropriate forum thread for each lesson from the website. #Angry\n",
      "writing to C:\\Users\\Aaron\\workspace\\moodmusic-generator\\inputsentences\\sentence285.moodsentence\n",
      "done writing\n",
      "closed\n",
      "If you have a question, be sure to first search to see if it’s already answered, and to see if there is already a relevant thread you can ask it on. #Happy\n",
      "writing to C:\\Users\\Aaron\\workspace\\moodmusic-generator\\inputsentences\\sentence286.moodsentence\n",
      "done writing\n",
      "closed\n",
      "Note that when you start creating a new topic, discourse will let you know of similar topics that already exist. #Surprised\n",
      "writing to C:\\Users\\Aaron\\workspace\\moodmusic-generator\\inputsentences\\sentence287.moodsentence\n",
      "done writing\n",
      "closed\n",
      "If you see something close, please head to that thread instead of creating a new topic, to help other students find answers to their questions. #Happy\n",
      "writing to C:\\Users\\Aaron\\workspace\\moodmusic-generator\\inputsentences\\sentence288.moodsentence\n",
      "done writing\n",
      "closed\n",
      "Remember, when you ask or answer a question here, you’re contributing to a knowledge base that the whole community benefits from. #Angry\n",
      "writing to C:\\Users\\Aaron\\workspace\\moodmusic-generator\\inputsentences\\sentence289.moodsentence\n",
      "done writing\n",
      "closed\n",
      "done\n"
     ]
    }
   ],
   "source": [
    "import os\n",
    "for sentence in splitmood:\n",
    "    filename = os.path.join(sentenceDir, \"sentence\"+str(index)+\".moodsentence\")\n",
    "    index += 1\n",
    "    f= open(filename,\"w+\")\n",
    "    print(sentence)\n",
    "    print(\"writing to \"+str(filename))\n",
    "    f.write(sentence)\n",
    "    print(\"done writing\")\n",
    "    f.close()\n",
    "    print(\"closed\")\n",
    "print(\"done\")"
   ]
  },
  {
   "cell_type": "code",
   "execution_count": null,
   "metadata": {
    "collapsed": true
   },
   "outputs": [],
   "source": []
  },
  {
   "cell_type": "code",
   "execution_count": null,
   "metadata": {
    "collapsed": true
   },
   "outputs": [],
   "source": []
  }
 ],
 "metadata": {
  "kernelspec": {
   "display_name": "Python 3",
   "language": "python",
   "name": "python3"
  },
  "language_info": {
   "codemirror_mode": {
    "name": "ipython",
    "version": 3
   },
   "file_extension": ".py",
   "mimetype": "text/x-python",
   "name": "python",
   "nbconvert_exporter": "python",
   "pygments_lexer": "ipython3",
   "version": "3.6.3"
  }
 },
 "nbformat": 4,
 "nbformat_minor": 2
}
