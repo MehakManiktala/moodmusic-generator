{
 "cells": [
  {
   "cell_type": "code",
   "execution_count": 93,
   "metadata": {},
   "outputs": [],
   "source": [
    "index = 0\n",
    "sentenceDir = \"./sentences\""
   ]
  },
  {
   "cell_type": "code",
   "execution_count": 94,
   "metadata": {},
   "outputs": [],
   "source": [
    "#https://gist.github.com/maartenbreddels/3378e8257bf0ee18cfcbdacce6e6a77e\n",
    "import threading\n",
    "def work():\n",
    "    #https://stackoverflow.com/questions/7372592/python-how-can-i-execute-a-jar-file-through-a-python-script\n",
    "    import subprocess\n",
    "    subprocess.call(['java', '-jar', 'runnable.jar', sentenceDir])\n",
    "thread = threading.Thread(target=work)\n",
    "thread.start()"
   ]
  },
  {
   "cell_type": "code",
   "execution_count": 95,
   "metadata": {},
   "outputs": [],
   "source": [
    "input_text = \"If you are working through our online course, you will see that there is a link to the appropriate forum thread for each lesson from the website. If you have a question, be sure to first search to see if it’s already answered, and to see if there is already a relevant thread you can ask it on. Note that when you start creating a new topic, discourse will let you know of similar topics that already exist. If you see something close, please head to that thread instead of creating a new topic, to help other students find answers to their questions. Remember, when you ask or answer a question here, you’re contributing to a knowledge base that the whole community benefits from!\""
   ]
  },
  {
   "cell_type": "code",
   "execution_count": 96,
   "metadata": {},
   "outputs": [],
   "source": [
    "import re\n",
    "def split_sentences(st):\n",
    "    sentences = re.split(r'[.?!]\\s*', st)\n",
    "    if sentences[-1]:\n",
    "        return sentences\n",
    "    else:\n",
    "        return sentences[:-1]"
   ]
  },
  {
   "cell_type": "code",
   "execution_count": 97,
   "metadata": {},
   "outputs": [],
   "source": [
    "split = split_sentences(input_text)"
   ]
  },
  {
   "cell_type": "code",
   "execution_count": 98,
   "metadata": {},
   "outputs": [],
   "source": [
    "moods = [\"Sad\",\"Happy\",\"Surprised\",\"Calm\"]"
   ]
  },
  {
   "cell_type": "code",
   "execution_count": 99,
   "metadata": {},
   "outputs": [],
   "source": [
    "import random\n",
    "split = [x+\".#\"+random.choice(moods) for x in split]"
   ]
  },
  {
   "cell_type": "code",
   "execution_count": 100,
   "metadata": {},
   "outputs": [
    {
     "data": {
      "text/plain": [
       "['If you are working through our online course, you will see that there is a link to the appropriate forum thread for each lesson from the website.#Calm',\n",
       " 'If you have a question, be sure to first search to see if it’s already answered, and to see if there is already a relevant thread you can ask it on.#Happy',\n",
       " 'Note that when you start creating a new topic, discourse will let you know of similar topics that already exist.#Surprised',\n",
       " 'If you see something close, please head to that thread instead of creating a new topic, to help other students find answers to their questions.#Calm',\n",
       " 'Remember, when you ask or answer a question here, you’re contributing to a knowledge base that the whole community benefits from.#Calm']"
      ]
     },
     "execution_count": 100,
     "metadata": {},
     "output_type": "execute_result"
    }
   ],
   "source": [
    "split"
   ]
  },
  {
   "cell_type": "code",
   "execution_count": null,
   "metadata": {},
   "outputs": [],
   "source": [
    "filename = \"sentence\"+index+\".txt\"\n",
    "index += 1\n",
    "f= open(filename,\"w+\")"
   ]
  },
  {
   "cell_type": "code",
   "execution_count": null,
   "metadata": {},
   "outputs": [],
   "source": []
  }
 ],
 "metadata": {
  "kernelspec": {
   "display_name": "Python 3",
   "language": "python",
   "name": "python3"
  },
  "language_info": {
   "codemirror_mode": {
    "name": "ipython",
    "version": 3
   },
   "file_extension": ".py",
   "mimetype": "text/x-python",
   "name": "python",
   "nbconvert_exporter": "python",
   "pygments_lexer": "ipython3",
   "version": "3.6.5"
  }
 },
 "nbformat": 4,
 "nbformat_minor": 2
}
