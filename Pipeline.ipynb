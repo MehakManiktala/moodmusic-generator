{
 "cells": [
  {
   "cell_type": "code",
   "execution_count": 76,
   "metadata": {},
   "outputs": [
    {
     "name": "stdout",
     "output_type": "stream",
     "text": [
      "C:\\Users\\Aaron\\workspace\\moodmusic-generator\\inputsentences\n"
     ]
    }
   ],
   "source": [
    "index = 0\n",
    "import os\n",
    "sentenceDir = os.path.join(os.getcwd(), \"inputsentences\")\n",
    "print(sentenceDir)"
   ]
  },
  {
   "cell_type": "code",
   "execution_count": 77,
   "metadata": {
    "collapsed": true
   },
   "outputs": [],
   "source": [
    "#https://gist.github.com/maartenbreddels/3378e8257bf0ee18cfcbdacce6e6a77e\n",
    "import threading\n",
    "def work():\n",
    "    #https://stackoverflow.com/questions/7372592/python-how-can-i-execute-a-jar-file-through-a-python-script\n",
    "    import subprocess\n",
    "    subprocess.call(['java', '-jar', 'runnable.jar', sentenceDir])\n",
    "thread = threading.Thread(target=work)\n",
    "thread.start()"
   ]
  },
  {
   "cell_type": "code",
   "execution_count": 78,
   "metadata": {
    "collapsed": true
   },
   "outputs": [],
   "source": [
    "input_text = \"As the father of two teenagers, I found this book invaluable. I'm sure other parents here can empathize when I say I shudder at the thought of the increasing presence of huge ships in the lives my children. I certainly remember the strain I caused so long ago for my own parents when I began experimenting with huge ships. The long inter-continental voyages that kept my mom and dad up all night with worry. Don't even get me started on the international protocols when transporting perishable cargo. To think, I was even younger than my kids are now! huge ships are everywhere and it doesn't help that the tv and movies make huge ships seem glamorous and cool. This book helped me really approach the subject of huge ships with my kids in an honest and non judgmental way. Because of the insights this book provided, I can sleep a little better and cope with the reality that I can't always be there to protect my kids from huge ships, especially as they become adults. I'm confident that my teens, when confronted by a huge ship, are much better prepared to make wiser decisions than I did. At the very least my children certainly know that they can always come to me if they have any concerns, questions or just need my support when it comes to the topic of huge ships.  \""
   ]
  },
  {
   "cell_type": "code",
   "execution_count": 79,
   "metadata": {
    "collapsed": true
   },
   "outputs": [],
   "source": [
    "import re\n",
    "def split_sentences(st):\n",
    "    sentences = re.split(r'[.?!]\\s*', st)\n",
    "    if sentences[-1]:\n",
    "        return sentences\n",
    "    else:\n",
    "        return sentences[:-1]"
   ]
  },
  {
   "cell_type": "code",
   "execution_count": 80,
   "metadata": {
    "collapsed": true
   },
   "outputs": [],
   "source": [
    "split = split_sentences(input_text)"
   ]
  },
  {
   "cell_type": "code",
   "execution_count": 81,
   "metadata": {
    "collapsed": true
   },
   "outputs": [],
   "source": [
    "moods = [\"Sad\",\"Happy\",\"Surprised\",\"Angry\",\"Fear\"]#\"Calm\",\"Drowsy\",\"Quiescent\",\"Active\",\"Fear\"]"
   ]
  },
  {
   "cell_type": "code",
   "execution_count": 82,
   "metadata": {
    "collapsed": true
   },
   "outputs": [],
   "source": [
    "import random\n",
    "splitmood = [x+\". #\"+random.choice(moods) for x in split]"
   ]
  },
  {
   "cell_type": "code",
   "execution_count": 83,
   "metadata": {},
   "outputs": [
    {
     "name": "stdout",
     "output_type": "stream",
     "text": [
      "As the father of two teenagers, I found this book invaluable. #Happy\n",
      "-----\n",
      "I'm sure other parents here can empathize when I say I shudder at the thought of the increasing presence of huge ships in the lives my children. #Happy\n",
      "-----\n",
      "I certainly remember the strain I caused so long ago for my own parents when I began experimenting with huge ships. #Surprised\n",
      "-----\n",
      "The long inter-continental voyages that kept my mom and dad up all night with worry. #Sad\n",
      "-----\n",
      "Don't even get me started on the international protocols when transporting perishable cargo. #Angry\n",
      "-----\n",
      "To think, I was even younger than my kids are now. #Happy\n",
      "-----\n",
      "huge ships are everywhere and it doesn't help that the tv and movies make huge ships seem glamorous and cool. #Fear\n",
      "-----\n",
      "This book helped me really approach the subject of huge ships with my kids in an honest and non judgmental way. #Happy\n",
      "-----\n",
      "Because of the insights this book provided, I can sleep a little better and cope with the reality that I can't always be there to protect my kids from huge ships, especially as they become adults. #Surprised\n",
      "-----\n",
      "I'm confident that my teens, when confronted by a huge ship, are much better prepared to make wiser decisions than I did. #Angry\n",
      "-----\n",
      "At the very least my children certainly know that they can always come to me if they have any concerns, questions or just need my support when it comes to the topic of huge ships. #Angry\n",
      "-----\n"
     ]
    }
   ],
   "source": [
    "for sm in splitmood:\n",
    "    print(sm)\n",
    "    print(\"-----\")"
   ]
  },
  {
   "cell_type": "code",
   "execution_count": 97,
   "metadata": {},
   "outputs": [
    {
     "name": "stdout",
     "output_type": "stream",
     "text": [
      "done\n"
     ]
    }
   ],
   "source": [
    "import os\n",
    "filename = os.path.join(sentenceDir, \"sentence\"+str(index)+\".moodsentence\")\n",
    "index += 1\n",
    "f= open(filename,'w+')\n",
    "for sentence in splitmood:\n",
    "    f.write(sentence+\"\\n\")\n",
    "f.close()\n",
    "print(\"done\")"
   ]
  },
  {
   "cell_type": "code",
   "execution_count": null,
   "metadata": {
    "collapsed": true
   },
   "outputs": [],
   "source": []
  },
  {
   "cell_type": "code",
   "execution_count": null,
   "metadata": {
    "collapsed": true
   },
   "outputs": [],
   "source": []
  },
  {
   "cell_type": "code",
   "execution_count": null,
   "metadata": {
    "collapsed": true
   },
   "outputs": [],
   "source": []
  }
 ],
 "metadata": {
  "kernelspec": {
   "display_name": "Python 3",
   "language": "python",
   "name": "python3"
  },
  "language_info": {
   "codemirror_mode": {
    "name": "ipython",
    "version": 3
   },
   "file_extension": ".py",
   "mimetype": "text/x-python",
   "name": "python",
   "nbconvert_exporter": "python",
   "pygments_lexer": "ipython3",
   "version": "3.6.3"
  }
 },
 "nbformat": 4,
 "nbformat_minor": 2
}
