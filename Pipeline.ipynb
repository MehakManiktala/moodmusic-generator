{
 "cells": [
  {
   "cell_type": "code",
   "execution_count": 66,
   "metadata": {},
   "outputs": [
    {
     "name": "stdout",
     "output_type": "stream",
     "text": [
      "we are in thread <_MainThread(MainThread, started 29024)>\n"
     ]
    },
    {
     "data": {
      "application/vnd.jupyter.widget-view+json": {
       "model_id": "",
       "version_major": 2,
       "version_minor": 0
      },
      "text/plain": [
       "FloatProgress(value=0.0, max=1.0)"
      ]
     },
     "metadata": {},
     "output_type": "display_data"
    },
    {
     "name": "stdout",
     "output_type": "stream",
     "text": [
      "0\n"
     ]
    }
   ],
   "source": [
    "import threading\n",
    "from IPython.display import display\n",
    "import ipywidgets as widgets\n",
    "import time\n",
    "def get_ioloop():\n",
    "    import IPython, zmq\n",
    "    ipython = IPython.get_ipython()\n",
    "    if ipython and hasattr(ipython, 'kernel'):\n",
    "        return zmq.eventloop.ioloop.IOLoop.instance()\n",
    "ioloop = get_ioloop()\n",
    "thread_safe = True\n",
    "def work():\n",
    "    for i in range(10):\n",
    "        def update_progress(i=i):\n",
    "            print(\"calling from thread\", threading.currentThread())\n",
    "            progress.value = (i+1)/10.\n",
    "        print( i)\n",
    "        time.sleep(0.5)\n",
    "        if thread_safe:\n",
    "            get_ioloop().add_callback(update_progress)\n",
    "        else:\n",
    "            update_progress()\n",
    "print(\"we are in thread\", threading.currentThread())\n",
    "\n",
    "thread = threading.Thread(target=work)\n",
    "progress = widgets.FloatProgress(value=0.0, min=0.0, max=1.0, step=0.01)\n",
    "display(progress)\n",
    "thread.start()"
   ]
  },
  {
   "cell_type": "code",
   "execution_count": 68,
   "metadata": {},
   "outputs": [
    {
     "name": "stderr",
     "output_type": "stream",
     "text": [
      "Exception in thread Thread-7:\n",
      "Traceback (most recent call last):\n",
      "  File \"C:\\Users\\amargolesemalin\\Anaconda3\\lib\\threading.py\", line 916, in _bootstrap_inner\n",
      "    self.run()\n",
      "  File \"C:\\Users\\amargolesemalin\\Anaconda3\\lib\\threading.py\", line 864, in run\n",
      "    self._target(*self._args, **self._kwargs)\n",
      "  File \"<ipython-input-66-6d9c5c149644>\", line 20, in work\n",
      "    get_ioloop().add_callback(update_progress)\n",
      "  File \"<ipython-input-66-6d9c5c149644>\", line 9, in get_ioloop\n",
      "    return zmq.eventloop.ioloop.IOLoop.instance()\n",
      "  File \"C:\\Users\\amargolesemalin\\Anaconda3\\lib\\site-packages\\zmq\\eventloop\\ioloop.py\", line 105, in instance\n",
      "    loop = ioloop.IOLoop.instance(*args, **kwargs)\n",
      "  File \"C:\\Users\\amargolesemalin\\Anaconda3\\lib\\site-packages\\tornado\\ioloop.py\", line 221, in instance\n",
      "    return IOLoop.current()\n",
      "  File \"C:\\Users\\amargolesemalin\\Anaconda3\\lib\\site-packages\\tornado\\ioloop.py\", line 282, in current\n",
      "    loop = asyncio.get_event_loop()\n",
      "  File \"C:\\Users\\amargolesemalin\\Anaconda3\\lib\\asyncio\\events.py\", line 694, in get_event_loop\n",
      "    return get_event_loop_policy().get_event_loop()\n",
      "  File \"C:\\Users\\amargolesemalin\\Anaconda3\\lib\\asyncio\\events.py\", line 602, in get_event_loop\n",
      "    % threading.current_thread().name)\n",
      "RuntimeError: There is no current event loop in thread 'Thread-7'.\n",
      "\n"
     ]
    },
    {
     "data": {
      "text/plain": [
       "0"
      ]
     },
     "execution_count": 68,
     "metadata": {},
     "output_type": "execute_result"
    }
   ],
   "source": [
    "#https://stackoverflow.com/questions/7372592/python-how-can-i-execute-a-jar-file-through-a-python-script\n",
    "import subprocess\n",
    "subprocess.call(['java', '-jar', 'runnable.jar'])"
   ]
  },
  {
   "cell_type": "code",
   "execution_count": 71,
   "metadata": {},
   "outputs": [
    {
     "data": {
      "application/vnd.jupyter.widget-view+json": {
       "model_id": "a5e91655efe445f390653c7e10a60847",
       "version_major": 2,
       "version_minor": 0
      },
      "text/plain": [
       "FloatProgress(value=0.0, max=1.0)"
      ]
     },
     "metadata": {},
     "output_type": "display_data"
    }
   ],
   "source": [
    "#\n",
    "import threading\n",
    "from IPython.display import display\n",
    "import ipywidgets as widgets\n",
    "import time\n",
    "def get_ioloop():\n",
    "    import IPython, zmq\n",
    "    ipython = IPython.get_ipython()\n",
    "    if ipython and hasattr(ipython, 'kernel'):\n",
    "        return zmq.eventloop.ioloop.IOLoop.instance()\n",
    "ioloop = get_ioloop()\n",
    "thread_safe = True\n",
    "def work():\n",
    "    #https://stackoverflow.com/questions/7372592/python-how-can-i-execute-a-jar-file-through-a-python-script\n",
    "    import subprocess\n",
    "    subprocess.call(['java', '-jar', 'runnable.jar'])\n",
    "    print(\"we are in thread\", threading.currentThread())\n",
    "\n",
    "thread = threading.Thread(target=work)\n",
    "progress = widgets.FloatProgress(value=0.0, min=0.0, max=1.0, step=0.01)\n",
    "display(progress)\n",
    "thread.start()"
   ]
  },
  {
   "cell_type": "code",
   "execution_count": 72,
   "metadata": {},
   "outputs": [],
   "source": [
    "input_text = \"If you are working through our online course, you will see that there is a link to the appropriate forum thread for each lesson from the website. If you have a question, be sure to first search to see if it’s already answered, and to see if there is already a relevant thread you can ask it on. Note that when you start creating a new topic, discourse will let you know of similar topics that already exist. If you see something close, please head to that thread instead of creating a new topic, to help other students find answers to their questions. Remember, when you ask or answer a question here, you’re contributing to a knowledge base that the whole community benefits from!\""
   ]
  },
  {
   "cell_type": "code",
   "execution_count": 73,
   "metadata": {},
   "outputs": [],
   "source": [
    "import re\n",
    "def split_sentences(st):\n",
    "    sentences = re.split(r'[.?!]\\s*', st)\n",
    "    if sentences[-1]:\n",
    "        return sentences\n",
    "    else:\n",
    "        return sentences[:-1]"
   ]
  },
  {
   "cell_type": "code",
   "execution_count": 74,
   "metadata": {},
   "outputs": [],
   "source": [
    "split = split_sentences(input_text)"
   ]
  },
  {
   "cell_type": "code",
   "execution_count": 75,
   "metadata": {},
   "outputs": [],
   "source": [
    "moods = [\"Sad\",\"Happy\",\"Surprised\",\"Calm\"]"
   ]
  },
  {
   "cell_type": "code",
   "execution_count": 76,
   "metadata": {},
   "outputs": [],
   "source": [
    "import random\n",
    "split = [x+\".#\"+random.choice(moods) for x in split]"
   ]
  },
  {
   "cell_type": "code",
   "execution_count": 77,
   "metadata": {},
   "outputs": [
    {
     "data": {
      "text/plain": [
       "['If you are working through our online course, you will see that there is a link to the appropriate forum thread for each lesson from the website.#Happy',\n",
       " 'If you have a question, be sure to first search to see if it’s already answered, and to see if there is already a relevant thread you can ask it on.#Happy',\n",
       " 'Note that when you start creating a new topic, discourse will let you know of similar topics that already exist.#Sad',\n",
       " 'If you see something close, please head to that thread instead of creating a new topic, to help other students find answers to their questions.#Calm',\n",
       " 'Remember, when you ask or answer a question here, you’re contributing to a knowledge base that the whole community benefits from.#Happy']"
      ]
     },
     "execution_count": 77,
     "metadata": {},
     "output_type": "execute_result"
    },
    {
     "name": "stdout",
     "output_type": "stream",
     "text": [
      "we are in thread <Thread(Thread-8, started 26840)>\n"
     ]
    }
   ],
   "source": [
    "split"
   ]
  },
  {
   "cell_type": "code",
   "execution_count": null,
   "metadata": {},
   "outputs": [],
   "source": []
  }
 ],
 "metadata": {
  "kernelspec": {
   "display_name": "Python 3",
   "language": "python",
   "name": "python3"
  },
  "language_info": {
   "codemirror_mode": {
    "name": "ipython",
    "version": 3
   },
   "file_extension": ".py",
   "mimetype": "text/x-python",
   "name": "python",
   "nbconvert_exporter": "python",
   "pygments_lexer": "ipython3",
   "version": "3.6.5"
  }
 },
 "nbformat": 4,
 "nbformat_minor": 2
}
