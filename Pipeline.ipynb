{
 "cells": [
  {
   "cell_type": "code",
   "execution_count": 32,
   "metadata": {},
   "outputs": [
    {
     "name": "stdout",
     "output_type": "stream",
     "text": [
      "C:\\Users\\Aaron\\workspace\\moodmusic-generator\\inputsentences\n"
     ]
    }
   ],
   "source": [
    "index = 0\n",
    "import os\n",
    "sentenceDir = os.path.join(os.getcwd(), \"inputsentences\")\n",
    "print(sentenceDir)"
   ]
  },
  {
   "cell_type": "code",
   "execution_count": 33,
   "metadata": {
    "collapsed": true
   },
   "outputs": [],
   "source": [
    "#https://gist.github.com/maartenbreddels/3378e8257bf0ee18cfcbdacce6e6a77e\n",
    "import threading\n",
    "def work():\n",
    "    #https://stackoverflow.com/questions/7372592/python-how-can-i-execute-a-jar-file-through-a-python-script\n",
    "    import subprocess\n",
    "    subprocess.call(['java', '-jar', 'runnable.jar', sentenceDir])\n",
    "thread = threading.Thread(target=work)\n",
    "thread.start()"
   ]
  },
  {
   "cell_type": "code",
   "execution_count": 34,
   "metadata": {
    "collapsed": true
   },
   "outputs": [],
   "source": [
    "input_text = \"If you are working through our online course, you will see that there is a link to the appropriate forum thread for each lesson from the website. If you have a question, be sure to first search to see if it’s already answered, and to see if there is already a relevant thread you can ask it on. Note that when you start creating a new topic, discourse will let you know of similar topics that already exist. If you see something close, please head to that thread instead of creating a new topic, to help other students find answers to their questions. Remember, when you ask or answer a question here, you’re contributing to a knowledge base that the whole community benefits from!\""
   ]
  },
  {
   "cell_type": "code",
   "execution_count": 35,
   "metadata": {
    "collapsed": true
   },
   "outputs": [],
   "source": [
    "import re\n",
    "def split_sentences(st):\n",
    "    sentences = re.split(r'[.?!]\\s*', st)\n",
    "    if sentences[-1]:\n",
    "        return sentences\n",
    "    else:\n",
    "        return sentences[:-1]"
   ]
  },
  {
   "cell_type": "code",
   "execution_count": 36,
   "metadata": {
    "collapsed": true
   },
   "outputs": [],
   "source": [
    "split = split_sentences(input_text)"
   ]
  },
  {
   "cell_type": "code",
   "execution_count": 37,
   "metadata": {
    "collapsed": true
   },
   "outputs": [],
   "source": [
    "moods = [\"Sad\",\"Happy\",\"Surprised\",\"Calm\",\"Drowsy\",\"Quiescent\",\"Active\",\"Fear\"]"
   ]
  },
  {
   "cell_type": "code",
   "execution_count": 38,
   "metadata": {
    "collapsed": true
   },
   "outputs": [],
   "source": [
    "import random\n",
    "split = [x+\". #\"+random.choice(moods) for x in split]"
   ]
  },
  {
   "cell_type": "code",
   "execution_count": 39,
   "metadata": {},
   "outputs": [
    {
     "data": {
      "text/plain": [
       "['If you are working through our online course, you will see that there is a link to the appropriate forum thread for each lesson from the website. #Sad',\n",
       " 'If you have a question, be sure to first search to see if it’s already answered, and to see if there is already a relevant thread you can ask it on. #Drowsy',\n",
       " 'Note that when you start creating a new topic, discourse will let you know of similar topics that already exist. #Active',\n",
       " 'If you see something close, please head to that thread instead of creating a new topic, to help other students find answers to their questions. #Active',\n",
       " 'Remember, when you ask or answer a question here, you’re contributing to a knowledge base that the whole community benefits from. #Active']"
      ]
     },
     "execution_count": 39,
     "metadata": {},
     "output_type": "execute_result"
    }
   ],
   "source": [
    "split"
   ]
  },
  {
   "cell_type": "code",
   "execution_count": 40,
   "metadata": {
    "collapsed": true
   },
   "outputs": [],
   "source": [
    "import os\n",
    "for sentence in split:\n",
    "    filename = os.path.join(sentenceDir, \"sentence\"+str(index)+\".moodsentence\")\n",
    "    index += 1\n",
    "    f= open(filename,\"w+\")\n",
    "    f.write(sentence)\n",
    "    f.close"
   ]
  },
  {
   "cell_type": "code",
   "execution_count": null,
   "metadata": {
    "collapsed": true
   },
   "outputs": [],
   "source": []
  },
  {
   "cell_type": "code",
   "execution_count": null,
   "metadata": {
    "collapsed": true
   },
   "outputs": [],
   "source": []
  }
 ],
 "metadata": {
  "kernelspec": {
   "display_name": "Python 3",
   "language": "python",
   "name": "python3"
  },
  "language_info": {
   "codemirror_mode": {
    "name": "ipython",
    "version": 3
   },
   "file_extension": ".py",
   "mimetype": "text/x-python",
   "name": "python",
   "nbconvert_exporter": "python",
   "pygments_lexer": "ipython3",
   "version": "3.6.3"
  }
 },
 "nbformat": 4,
 "nbformat_minor": 2
}
