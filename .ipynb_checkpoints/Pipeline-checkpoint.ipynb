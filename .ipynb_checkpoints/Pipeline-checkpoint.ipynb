{
 "cells": [
  {
   "cell_type": "code",
   "execution_count": 1,
   "metadata": {},
   "outputs": [
    {
     "name": "stdout",
     "output_type": "stream",
     "text": [
      "C:\\Users\\mehak\\Documents\\pipeline\\v2\\moodmusic-generator\\inputsentences\n"
     ]
    }
   ],
   "source": [
    "index = 0\n",
    "import os\n",
    "sentenceDir = os.path.join(os.getcwd(), \"inputsentences\")\n",
    "print(sentenceDir)"
   ]
  },
  {
   "cell_type": "code",
   "execution_count": 2,
   "metadata": {},
   "outputs": [],
   "source": [
    "#https://gist.github.com/maartenbreddels/3378e8257bf0ee18cfcbdacce6e6a77e\n",
    "import threading\n",
    "def work():\n",
    "    #https://stackoverflow.com/questions/7372592/python-how-can-i-execute-a-jar-file-through-a-python-script\n",
    "    import subprocess\n",
    "    subprocess.call(['java', '-jar', 'runnable.jar', sentenceDir])\n",
    "thread = threading.Thread(target=work)\n",
    "thread.start()"
   ]
  },
  {
   "cell_type": "code",
   "execution_count": 10,
   "metadata": {},
   "outputs": [],
   "source": [
    "input_text = \"All of us! What a wonderful day to go hiking! Oh, no the road is closed. Well, there is always another day\""
   ]
  },
  {
   "cell_type": "code",
   "execution_count": 11,
   "metadata": {},
   "outputs": [],
   "source": [
    "import re\n",
    "def split_sentences(st):\n",
    "    sentences = re.split(r'[.?!]\\s*', st)\n",
    "    if sentences[-1]:\n",
    "        return sentences\n",
    "    else:\n",
    "        return sentences[:-1]"
   ]
  },
  {
   "cell_type": "code",
   "execution_count": 12,
   "metadata": {},
   "outputs": [],
   "source": [
    "split = split_sentences(input_text)"
   ]
  },
  {
   "cell_type": "code",
   "execution_count": 13,
   "metadata": {},
   "outputs": [],
   "source": [
    "moods = [\"Sad\",\"Happy\",\"Surprised\",\"Angry\",\"Fear\"]#\"Calm\",\"Drowsy\",\"Quiescent\",\"Active\",\"Fear\"]"
   ]
  },
  {
   "cell_type": "code",
   "execution_count": 14,
   "metadata": {},
   "outputs": [],
   "source": [
    "import random\n",
    "splitmood = [x+\". #\"+random.choice(moods) for x in split]"
   ]
  },
  {
   "cell_type": "code",
   "execution_count": 15,
   "metadata": {},
   "outputs": [
    {
     "name": "stdout",
     "output_type": "stream",
     "text": [
      "All of us. #Surprised\n",
      "-----\n",
      "What a wonderful day to go hiking. #Fear\n",
      "-----\n",
      "Oh, no the road is closed. #Fear\n",
      "-----\n",
      "Well, there is always another day. #Fear\n",
      "-----\n"
     ]
    }
   ],
   "source": [
    "for sm in splitmood:\n",
    "    print(sm)\n",
    "    print(\"-----\")"
   ]
  },
  {
   "cell_type": "code",
   "execution_count": 16,
   "metadata": {},
   "outputs": [
    {
     "name": "stdout",
     "output_type": "stream",
     "text": [
      "All of us. #Surprised\n",
      "writing to C:\\Users\\mehak\\Documents\\pipeline\\v2\\moodmusic-generator\\inputsentences\\sentence1.moodsentence\n",
      "done writing\n",
      "closed\n",
      "What a wonderful day to go hiking. #Fear\n",
      "writing to C:\\Users\\mehak\\Documents\\pipeline\\v2\\moodmusic-generator\\inputsentences\\sentence2.moodsentence\n",
      "done writing\n",
      "closed\n",
      "Oh, no the road is closed. #Fear\n",
      "writing to C:\\Users\\mehak\\Documents\\pipeline\\v2\\moodmusic-generator\\inputsentences\\sentence3.moodsentence\n",
      "done writing\n",
      "closed\n",
      "Well, there is always another day. #Fear\n",
      "writing to C:\\Users\\mehak\\Documents\\pipeline\\v2\\moodmusic-generator\\inputsentences\\sentence4.moodsentence\n",
      "done writing\n",
      "closed\n",
      "done\n"
     ]
    }
   ],
   "source": [
    "import os\n",
    "for sentence in splitmood:\n",
    "    filename = os.path.join(sentenceDir, \"sentence\"+str(index)+\".moodsentence\")\n",
    "    index += 1\n",
    "    f= open(filename,\"w+\")\n",
    "    print(sentence)\n",
    "    print(\"writing to \"+str(filename))\n",
    "    f.write(sentence)\n",
    "    print(\"done writing\")\n",
    "    f.close()\n",
    "    print(\"closed\")\n",
    "print(\"done\")"
   ]
  },
  {
   "cell_type": "code",
   "execution_count": null,
   "metadata": {
    "collapsed": true
   },
   "outputs": [],
   "source": []
  },
  {
   "cell_type": "code",
   "execution_count": null,
   "metadata": {
    "collapsed": true
   },
   "outputs": [],
   "source": []
  }
 ],
 "metadata": {
  "kernelspec": {
   "display_name": "Python 3",
   "language": "python",
   "name": "python3"
  },
  "language_info": {
   "codemirror_mode": {
    "name": "ipython",
    "version": 3
   },
   "file_extension": ".py",
   "mimetype": "text/x-python",
   "name": "python",
   "nbconvert_exporter": "python",
   "pygments_lexer": "ipython3",
   "version": "3.6.4"
  }
 },
 "nbformat": 4,
 "nbformat_minor": 2
}
